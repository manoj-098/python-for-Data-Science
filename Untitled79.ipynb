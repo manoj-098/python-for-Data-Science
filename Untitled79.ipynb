{
  "nbformat": 4,
  "nbformat_minor": 0,
  "metadata": {
    "colab": {
      "name": "Untitled79.ipynb",
      "provenance": [],
      "authorship_tag": "ABX9TyNWGzPm/ianX4W3lZFjrfnY",
      "include_colab_link": true
    },
    "kernelspec": {
      "name": "python3",
      "display_name": "Python 3"
    },
    "language_info": {
      "name": "python"
    }
  },
  "cells": [
    {
      "cell_type": "markdown",
      "metadata": {
        "id": "view-in-github",
        "colab_type": "text"
      },
      "source": [
        "<a href=\"https://colab.research.google.com/github/manoj-raghav/python-for-Data-Science/blob/main/Untitled79.ipynb\" target=\"_parent\"><img src=\"https://colab.research.google.com/assets/colab-badge.svg\" alt=\"Open In Colab\"/></a>"
      ]
    },
    {
      "cell_type": "code",
      "execution_count": 5,
      "metadata": {
        "colab": {
          "base_uri": "https://localhost:8080/"
        },
        "id": "cNOMfpmU8Zge",
        "outputId": "add5fdb5-c19a-4050-b787-bd9873f11cae"
      },
      "outputs": [
        {
          "output_type": "stream",
          "name": "stdout",
          "text": [
            "My country is India\n",
            "My country is Canada\n",
            "\n",
            "******************************************\n",
            "\n",
            "My country is France\n",
            "My country is France\n",
            "My country is France\n",
            "My country is France\n"
          ]
        }
      ],
      "source": [
        "def myfunc(country='France'):\n",
        "  print('My country is '+country)\n",
        "\n",
        "myfunc('India')\n",
        "myfunc('Canada')\n",
        "print('\\n******************************************\\n')\n",
        "myfunc()\n",
        "myfunc()\n",
        "myfunc()\n",
        "myfunc()"
      ]
    },
    {
      "cell_type": "markdown",
      "source": [
        "Recursion"
      ],
      "metadata": {
        "id": "_2GYvRG69TXJ"
      }
    },
    {
      "cell_type": "code",
      "source": [
        "def myfunc(k):\n",
        "  if(k>0):\n",
        "    for i in range(k):\n",
        "      print(i)\n",
        "    print(k)\n",
        "    myfunc(k-1)\n",
        "myfunc(5)"
      ],
      "metadata": {
        "colab": {
          "base_uri": "https://localhost:8080/"
        },
        "id": "kBZ7l5Wa9SWO",
        "outputId": "509d9132-1fe5-4047-dee2-6a55b1e04c6e"
      },
      "execution_count": 42,
      "outputs": [
        {
          "output_type": "stream",
          "name": "stdout",
          "text": [
            "0\n",
            "1\n",
            "2\n",
            "3\n",
            "4\n",
            "5\n",
            "0\n",
            "1\n",
            "2\n",
            "3\n",
            "4\n",
            "0\n",
            "1\n",
            "2\n",
            "3\n",
            "0\n",
            "1\n",
            "2\n",
            "0\n",
            "1\n"
          ]
        }
      ]
    },
    {
      "cell_type": "code",
      "source": [
        "def recursion(k):\n",
        "  if(k>0):\n",
        "    result=k+recursion(k-1)\n",
        "    print(result)\n",
        "    #recursion(k-1)\n",
        "  else:\n",
        "    result=0\n",
        "  return result\n",
        "recursion(6)"
      ],
      "metadata": {
        "colab": {
          "base_uri": "https://localhost:8080/"
        },
        "id": "QvekErfcDS8x",
        "outputId": "a6be3fe0-1b54-416b-a267-af485deccb63"
      },
      "execution_count": 62,
      "outputs": [
        {
          "output_type": "stream",
          "name": "stdout",
          "text": [
            "1\n",
            "3\n",
            "6\n",
            "10\n",
            "15\n",
            "21\n"
          ]
        },
        {
          "output_type": "execute_result",
          "data": {
            "text/plain": [
              "21"
            ]
          },
          "metadata": {},
          "execution_count": 62
        }
      ]
    },
    {
      "cell_type": "code",
      "source": [
        "def fact(x):\n",
        "  if x==1 or x==0:\n",
        "    return 1\n",
        "  else:\n",
        "    return (x*fact(x-1))\n",
        "    \n",
        "  \n",
        "x=5\n",
        "fact(x)"
      ],
      "metadata": {
        "colab": {
          "base_uri": "https://localhost:8080/"
        },
        "id": "0vWTgfWqHnMi",
        "outputId": "3b6e55f7-9b5e-4d94-fe35-d6703db294f7"
      },
      "execution_count": 114,
      "outputs": [
        {
          "output_type": "execute_result",
          "data": {
            "text/plain": [
              "120"
            ]
          },
          "metadata": {},
          "execution_count": 114
        }
      ]
    },
    {
      "cell_type": "code",
      "source": [
        "5*4*3*2"
      ],
      "metadata": {
        "id": "_PQiUZO5Ix0R"
      },
      "execution_count": null,
      "outputs": []
    }
  ]
}