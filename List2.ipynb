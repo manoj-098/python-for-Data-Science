{
  "nbformat": 4,
  "nbformat_minor": 0,
  "metadata": {
    "colab": {
      "name": "List2.ipynb",
      "provenance": [],
      "include_colab_link": true
    },
    "kernelspec": {
      "name": "python3",
      "display_name": "Python 3"
    },
    "language_info": {
      "name": "python"
    }
  },
  "cells": [
    {
      "cell_type": "markdown",
      "metadata": {
        "id": "view-in-github",
        "colab_type": "text"
      },
      "source": [
        "<a href=\"https://colab.research.google.com/github/manoj-raghav/python/blob/main/List2.ipynb\" target=\"_parent\"><img src=\"https://colab.research.google.com/assets/colab-badge.svg\" alt=\"Open In Colab\"/></a>"
      ]
    },
    {
      "cell_type": "markdown",
      "metadata": {
        "id": "-YyQsmNaWwdM"
      },
      "source": [
        "**Change the second item**"
      ]
    },
    {
      "cell_type": "code",
      "source": [
        "mylist=['manoj','kishoor','ram']\n",
        "mylist[1]=\"manoj\"\n",
        "print(mylist)"
      ],
      "metadata": {
        "colab": {
          "base_uri": "https://localhost:8080/"
        },
        "id": "X89arnOq5I9N",
        "outputId": "a4130580-2813-4a7f-9538-649227e745f0"
      },
      "execution_count": 1,
      "outputs": [
        {
          "output_type": "stream",
          "name": "stdout",
          "text": [
            "['manoj', 'manoj', 'ram']\n"
          ]
        }
      ]
    },
    {
      "cell_type": "code",
      "metadata": {
        "id": "IvE8m-xZW3Tc"
      },
      "source": [
        "thislist = [\"apple\", \"banana\", \"cherry\"]\n",
        "thislist[1] = \"blackcurrant\"\n",
        "print(thislist)"
      ],
      "execution_count": null,
      "outputs": []
    },
    {
      "cell_type": "markdown",
      "metadata": {
        "id": "yZvbwFKVW528"
      },
      "source": [
        "**Change the values \"banana\" and \"cherry\" with the values \"blackcurrant\" and \"watermelon\"**"
      ]
    },
    {
      "cell_type": "code",
      "metadata": {
        "id": "C3UB9JGXW9hd",
        "colab": {
          "base_uri": "https://localhost:8080/"
        },
        "outputId": "bbff490b-ab41-4c32-b34f-083ee75be0e9"
      },
      "source": [
        "thislist = [\"apple\", \"banana\", \"cherry\", \"orange\", \"kiwi\", \"mango\"]\n",
        "thislist[1:3] = [\"blackcurrant\", \"watermelon\"]\n",
        "print(thislist)"
      ],
      "execution_count": 2,
      "outputs": [
        {
          "output_type": "stream",
          "name": "stdout",
          "text": [
            "['apple', 'blackcurrant', 'watermelon', 'orange', 'kiwi', 'mango']\n"
          ]
        }
      ]
    },
    {
      "cell_type": "markdown",
      "metadata": {
        "id": "QV99JD6UXA7O"
      },
      "source": [
        "**Change the second value by replacing it with two new values**"
      ]
    },
    {
      "cell_type": "code",
      "metadata": {
        "id": "OqG9T2-AXFqW",
        "colab": {
          "base_uri": "https://localhost:8080/"
        },
        "outputId": "179bc8a3-6c85-491b-953b-8192fbfafea4"
      },
      "source": [
        "thislist = [\"apple\", \"banana\", \"cherry\"]\n",
        "thislist[1:2] = [\"blackcurrant\", \"watermelon\"]\n",
        "print(thislist)"
      ],
      "execution_count": 3,
      "outputs": [
        {
          "output_type": "stream",
          "name": "stdout",
          "text": [
            "['apple', 'blackcurrant', 'watermelon', 'cherry']\n"
          ]
        }
      ]
    },
    {
      "cell_type": "markdown",
      "metadata": {
        "id": "RClXUItjXIfW"
      },
      "source": [
        "**Change the second and third value by replacing it with one value**"
      ]
    },
    {
      "cell_type": "code",
      "metadata": {
        "id": "CCZ_FU47XL_g",
        "colab": {
          "base_uri": "https://localhost:8080/"
        },
        "outputId": "48d28c65-1841-4550-afa6-26e40e329e6b"
      },
      "source": [
        "thislist = [\"apple\", \"banana\", \"cherry\"]\n",
        "thislist[1:3] = [\"watermelon\"]\n",
        "print(thislist)"
      ],
      "execution_count": 4,
      "outputs": [
        {
          "output_type": "stream",
          "name": "stdout",
          "text": [
            "['apple', 'watermelon']\n"
          ]
        }
      ]
    },
    {
      "cell_type": "markdown",
      "metadata": {
        "id": "wGZg4KukXS_Q"
      },
      "source": [
        "**Insert \"watermelon\" as the third item**"
      ]
    },
    {
      "cell_type": "code",
      "metadata": {
        "id": "ykOgAW01XV_6",
        "colab": {
          "base_uri": "https://localhost:8080/"
        },
        "outputId": "54ea945d-3c6d-455b-d5b4-c1c4ced994fa"
      },
      "source": [
        "thislist = [\"apple\", \"banana\", \"cherry\"]\n",
        "thislist.insert(2, \"watermelon\")\n",
        "print(thislist)"
      ],
      "execution_count": 5,
      "outputs": [
        {
          "output_type": "stream",
          "name": "stdout",
          "text": [
            "['apple', 'banana', 'watermelon', 'cherry']\n"
          ]
        }
      ]
    },
    {
      "cell_type": "code",
      "source": [
        "list=['maoj','jshajkh','apple']\n",
        "list.insert(1,'manoj')\n",
        "print(list)"
      ],
      "metadata": {
        "colab": {
          "base_uri": "https://localhost:8080/"
        },
        "id": "uEeOfnE85w9n",
        "outputId": "7c3ae312-e35b-49bf-83a8-6af267523e14"
      },
      "execution_count": 7,
      "outputs": [
        {
          "output_type": "stream",
          "name": "stdout",
          "text": [
            "['maoj', 'manoj', 'jshajkh', 'apple']\n"
          ]
        }
      ]
    },
    {
      "cell_type": "markdown",
      "metadata": {
        "id": "8Cf94GsmXd9w"
      },
      "source": [
        "**Using the append() method to append an item**"
      ]
    },
    {
      "cell_type": "code",
      "metadata": {
        "id": "FfTNxuaSXe9T",
        "colab": {
          "base_uri": "https://localhost:8080/"
        },
        "outputId": "1bdd877e-98fa-4f21-969a-efe349c76c2e"
      },
      "source": [
        "thislist = [\"apple\", \"banana\", \"cherry\"]\n",
        "thislist.append(\"orange\")\n",
        "print(thislist)"
      ],
      "execution_count": 8,
      "outputs": [
        {
          "output_type": "stream",
          "name": "stdout",
          "text": [
            "['apple', 'banana', 'cherry', 'orange']\n"
          ]
        }
      ]
    },
    {
      "cell_type": "markdown",
      "metadata": {
        "id": "0uPZneHNXieS"
      },
      "source": [
        "**Insert an item as the second position**"
      ]
    },
    {
      "cell_type": "code",
      "metadata": {
        "id": "P2DhwDX_Xnja",
        "colab": {
          "base_uri": "https://localhost:8080/"
        },
        "outputId": "80bbc3f7-6c59-43c0-d07d-2bdbbcadb6f7"
      },
      "source": [
        "thislist = [\"apple\", \"banana\", \"cherry\"]\n",
        "thislist.insert(1, \"orange\")\n",
        "print(thislist)"
      ],
      "execution_count": 9,
      "outputs": [
        {
          "output_type": "stream",
          "name": "stdout",
          "text": [
            "['apple', 'orange', 'banana', 'cherry']\n"
          ]
        }
      ]
    },
    {
      "cell_type": "markdown",
      "metadata": {
        "id": "Lkvo8653XwPr"
      },
      "source": [
        "**Add the elements of tropical to thislist**"
      ]
    },
    {
      "cell_type": "code",
      "metadata": {
        "colab": {
          "base_uri": "https://localhost:8080/"
        },
        "id": "z1cHg_FZXxD8",
        "outputId": "8707fee9-2c7a-461a-e4f5-86597d373e6e"
      },
      "source": [
        "thislist = [\"apple\", \"banana\", \"cherry\"]\n",
        "tropical = [\"mango\", \"pineapple\", \"papaya\"]\n",
        "thislist.extend(tropical)\n",
        "print(thislist)"
      ],
      "execution_count": null,
      "outputs": [
        {
          "output_type": "stream",
          "name": "stdout",
          "text": [
            "['apple', 'banana', 'cherry', 'mango', 'pineapple', 'papaya']\n"
          ]
        }
      ]
    },
    {
      "cell_type": "markdown",
      "metadata": {
        "id": "JcRhSjrkX0Tk"
      },
      "source": [
        "**Add elements of a tuple to a list**"
      ]
    },
    {
      "cell_type": "code",
      "metadata": {
        "id": "cL3YRLtbX721",
        "colab": {
          "base_uri": "https://localhost:8080/"
        },
        "outputId": "41576769-4f36-4998-e88d-cb56f876c545"
      },
      "source": [
        "thislist = [\"apple\", \"banana\", \"cherry\"]\n",
        "thistuple = (\"kiwi\", \"orange\")\n",
        "thislist.extend(thistuple)\n",
        "print(thislist)"
      ],
      "execution_count": 10,
      "outputs": [
        {
          "output_type": "stream",
          "name": "stdout",
          "text": [
            "['apple', 'banana', 'cherry', 'kiwi', 'orange']\n"
          ]
        }
      ]
    },
    {
      "cell_type": "markdown",
      "metadata": {
        "id": "_YdmMAHHY0MW"
      },
      "source": [
        "**Remove \"banana\"**"
      ]
    },
    {
      "cell_type": "code",
      "metadata": {
        "id": "IMRo3OO8Y0_Y",
        "colab": {
          "base_uri": "https://localhost:8080/"
        },
        "outputId": "eab9c699-6830-45d5-aa61-c2722959c525"
      },
      "source": [
        "thislist = [\"apple\", \"banana\", \"cherry\"]\n",
        "thislist.remove(\"banana\")\n",
        "print(thislist)"
      ],
      "execution_count": 11,
      "outputs": [
        {
          "output_type": "stream",
          "name": "stdout",
          "text": [
            "['apple', 'cherry']\n"
          ]
        }
      ]
    },
    {
      "cell_type": "markdown",
      "metadata": {
        "id": "RL1yqvcyY7pJ"
      },
      "source": [
        "**Remove the second item**"
      ]
    },
    {
      "cell_type": "code",
      "source": [
        "thislist = [\"apple\", \"banana\", \"cherry\"]\n",
        "thislist.pop(1)\n",
        "print(thislist)"
      ],
      "metadata": {
        "id": "hlEaG6h73TZu",
        "colab": {
          "base_uri": "https://localhost:8080/"
        },
        "outputId": "2cb086fe-46f1-41c1-f0dd-53d7504e65fa"
      },
      "execution_count": 12,
      "outputs": [
        {
          "output_type": "stream",
          "name": "stdout",
          "text": [
            "['apple', 'cherry']\n"
          ]
        }
      ]
    },
    {
      "cell_type": "code",
      "source": [
        "mylist=[1,2,5,'mandy']\n",
        "mylist.remove(5)\n",
        "print(mylist)"
      ],
      "metadata": {
        "colab": {
          "base_uri": "https://localhost:8080/"
        },
        "id": "m_P-xXaA6do6",
        "outputId": "f96209b3-3226-4466-9175-28f8e5acd9c1"
      },
      "execution_count": 20,
      "outputs": [
        {
          "output_type": "stream",
          "name": "stdout",
          "text": [
            "[1, 2, 'mandy']\n"
          ]
        }
      ]
    },
    {
      "cell_type": "code",
      "source": [
        "list=[1,2,3,'mnaoj']\n",
        "c=list.pop()\n",
        "print(c)\n"
      ],
      "metadata": {
        "colab": {
          "base_uri": "https://localhost:8080/"
        },
        "id": "KMtft4CA7FgM",
        "outputId": "e2caafa3-da2a-4e46-9b28-f7f40a134259"
      },
      "execution_count": 27,
      "outputs": [
        {
          "output_type": "stream",
          "name": "stdout",
          "text": [
            "mnaoj\n"
          ]
        }
      ]
    },
    {
      "cell_type": "code",
      "source": [
        "list=[1,2,3,4]\n",
        "del list[2]\n",
        "print(list)"
      ],
      "metadata": {
        "colab": {
          "base_uri": "https://localhost:8080/"
        },
        "id": "9Y4lwt5I9YJG",
        "outputId": "f44ac929-bea9-469e-f5e5-05d69b71943b"
      },
      "execution_count": 36,
      "outputs": [
        {
          "output_type": "stream",
          "name": "stdout",
          "text": [
            "[1, 2, 4]\n"
          ]
        }
      ]
    },
    {
      "cell_type": "markdown",
      "metadata": {
        "id": "F-vXbvANZAgv"
      },
      "source": [
        "**Remove the last item**"
      ]
    },
    {
      "cell_type": "code",
      "metadata": {
        "id": "pAU4yrjrZFcR",
        "colab": {
          "base_uri": "https://localhost:8080/"
        },
        "outputId": "8324bdb6-41db-425f-b624-8f72d4333d17"
      },
      "source": [
        "thislist = [\"apple\", \"banana\", \"cherry\"]\n",
        "thislist.pop()\n",
        "print(thislist)"
      ],
      "execution_count": 22,
      "outputs": [
        {
          "output_type": "stream",
          "name": "stdout",
          "text": [
            "['apple', 'banana']\n"
          ]
        }
      ]
    },
    {
      "cell_type": "markdown",
      "metadata": {
        "id": "ttZEAj2zZLTS"
      },
      "source": [
        "**Remove the first item**"
      ]
    },
    {
      "cell_type": "code",
      "metadata": {
        "id": "u06Q5aqIZNHw"
      },
      "source": [
        "thislist = [\"apple\", \"banana\", \"cherry\"]\n",
        "del thislist[0]\n",
        "print(thislist)"
      ],
      "execution_count": null,
      "outputs": []
    },
    {
      "cell_type": "markdown",
      "metadata": {
        "id": "OePXvbL-ZQlA"
      },
      "source": [
        "**Delete the entire list**"
      ]
    },
    {
      "cell_type": "code",
      "metadata": {
        "id": "bpkJARhbZT9p"
      },
      "source": [
        "thislist = [\"apple\", \"banana\", \"cherry\"]\n",
        "del thislist"
      ],
      "execution_count": null,
      "outputs": []
    },
    {
      "cell_type": "markdown",
      "metadata": {
        "id": "yU7tde6lZWn5"
      },
      "source": [
        "**Clear the list content**"
      ]
    },
    {
      "cell_type": "code",
      "metadata": {
        "colab": {
          "base_uri": "https://localhost:8080/"
        },
        "id": "e3SrhCgFZbN7",
        "outputId": "726a3717-f5ae-418d-87c0-010095c6c970"
      },
      "source": [
        "thislist = [\"apple\", \"banana\", \"cherry\"]\n",
        "thislist.clear()\n",
        "print(thislist)"
      ],
      "execution_count": null,
      "outputs": [
        {
          "output_type": "stream",
          "name": "stdout",
          "text": [
            "[]\n"
          ]
        }
      ]
    }
  ]
}