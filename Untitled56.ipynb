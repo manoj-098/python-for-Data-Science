{
  "nbformat": 4,
  "nbformat_minor": 0,
  "metadata": {
    "colab": {
      "name": "Untitled55 (1).ipynb",
      "provenance": [],
      "include_colab_link": true
    },
    "kernelspec": {
      "name": "python3",
      "display_name": "Python 3"
    },
    "language_info": {
      "name": "python"
    }
  },
  "cells": [
    {
      "cell_type": "markdown",
      "metadata": {
        "id": "view-in-github",
        "colab_type": "text"
      },
      "source": [
        "<a href=\"https://colab.research.google.com/github/manoj-raghav/python/blob/main/Untitled56.ipynb\" target=\"_parent\"><img src=\"https://colab.research.google.com/assets/colab-badge.svg\" alt=\"Open In Colab\"/></a>"
      ]
    },
    {
      "cell_type": "code",
      "execution_count": 2,
      "metadata": {
        "id": "0uUzw927ITda"
      },
      "outputs": [],
      "source": [
        "import numpy as np"
      ]
    },
    {
      "cell_type": "code",
      "source": [
        "\n",
        "\n",
        "c=np.array([1,2,3,4,5,6,7,8,9,10])\n",
        "c\n"
      ],
      "metadata": {
        "colab": {
          "base_uri": "https://localhost:8080/"
        },
        "id": "kb6-v7XrYp1c",
        "outputId": "40980101-3ded-4dbd-9b3b-ba560fb87569"
      },
      "execution_count": 6,
      "outputs": [
        {
          "output_type": "execute_result",
          "data": {
            "text/plain": [
              "array([ 1,  2,  3,  4,  5,  6,  7,  8,  9, 10])"
            ]
          },
          "metadata": {},
          "execution_count": 6
        }
      ]
    },
    {
      "cell_type": "markdown",
      "source": [
        "ARRAY SHAPE\n",
        "\n"
      ],
      "metadata": {
        "id": "7K_dD7pAIcpS"
      }
    },
    {
      "cell_type": "code",
      "source": [
        "#reshaping an array of unknown dimension as a 5x5 matrix if supports \n",
        "c.reshape(5,1,-1)"
      ],
      "metadata": {
        "colab": {
          "base_uri": "https://localhost:8080/"
        },
        "id": "FUL--gscK3I7",
        "outputId": "3f9ed7b1-1452-49a0-94c6-6304366e1233"
      },
      "execution_count": 7,
      "outputs": [
        {
          "output_type": "execute_result",
          "data": {
            "text/plain": [
              "array([[[ 1,  2]],\n",
              "\n",
              "       [[ 3,  4]],\n",
              "\n",
              "       [[ 5,  6]],\n",
              "\n",
              "       [[ 7,  8]],\n",
              "\n",
              "       [[ 9, 10]]])"
            ]
          },
          "metadata": {},
          "execution_count": 7
        }
      ]
    },
    {
      "cell_type": "code",
      "source": [
        "#flattening array\n",
        "c=np.array([[[1,2],[3,4]],\n",
        "           [[1,2],[3,4]],\n",
        "           [[4,5],[6,7]]])\n",
        "a=c.shape\n",
        "b=c.reshape(-1)\n",
        "print(a)\n",
        "print(b)\n",
        "\n",
        "\n",
        "#we can use keywords like :flatten,ravel,flip,flipr,flipud,rot90"
      ],
      "metadata": {
        "colab": {
          "base_uri": "https://localhost:8080/"
        },
        "id": "4aXGgj9fLeMc",
        "outputId": "80972ec0-6915-4a31-9813-e6990dcf9eeb"
      },
      "execution_count": 8,
      "outputs": [
        {
          "output_type": "stream",
          "name": "stdout",
          "text": [
            "(3, 2, 2)\n",
            "[1 2 3 4 1 2 3 4 4 5 6 7]\n"
          ]
        }
      ]
    },
    {
      "cell_type": "code",
      "source": [
        "print(b.shape)"
      ],
      "metadata": {
        "colab": {
          "base_uri": "https://localhost:8080/"
        },
        "id": "h7f5XMg9YYiE",
        "outputId": "5ebf2cc2-3476-4557-80e0-645419820c40"
      },
      "execution_count": 9,
      "outputs": [
        {
          "output_type": "stream",
          "name": "stdout",
          "text": [
            "(12,)\n"
          ]
        }
      ]
    },
    {
      "cell_type": "code",
      "source": [
        "c.flatten()\n",
        "c.ravel()\n"
      ],
      "metadata": {
        "colab": {
          "base_uri": "https://localhost:8080/"
        },
        "id": "V3gCh6A0MNbO",
        "outputId": "e88efa36-ab2c-40c8-b3b1-3f6a46ac8700"
      },
      "execution_count": 10,
      "outputs": [
        {
          "output_type": "execute_result",
          "data": {
            "text/plain": [
              "array([1, 2, 3, 4, 1, 2, 3, 4, 4, 5, 6, 7])"
            ]
          },
          "metadata": {},
          "execution_count": 10
        }
      ]
    },
    {
      "cell_type": "markdown",
      "source": [
        "**ARRAY ITERATION**"
      ],
      "metadata": {
        "id": "K7ki99Z1NB1R"
      }
    },
    {
      "cell_type": "code",
      "source": [
        "c=np.array([1,2,3,4])\n",
        "for i in c:\n",
        "  print(i)"
      ],
      "metadata": {
        "colab": {
          "base_uri": "https://localhost:8080/"
        },
        "id": "n8UjQioTM_GW",
        "outputId": "4f754d8d-fcb1-415e-8e9a-33b5eaf75e98"
      },
      "execution_count": 11,
      "outputs": [
        {
          "output_type": "stream",
          "name": "stdout",
          "text": [
            "1\n",
            "2\n",
            "3\n",
            "4\n"
          ]
        }
      ]
    }
  ]
}