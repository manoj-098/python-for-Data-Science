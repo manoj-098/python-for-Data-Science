{
  "nbformat": 4,
  "nbformat_minor": 0,
  "metadata": {
    "colab": {
      "name": "Untitled29.ipynb",
      "provenance": [],
      "authorship_tag": "ABX9TyNzvMmuRnYzVkfiWaYwGfrT",
      "include_colab_link": true
    },
    "kernelspec": {
      "name": "python3",
      "display_name": "Python 3"
    },
    "language_info": {
      "name": "python"
    }
  },
  "cells": [
    {
      "cell_type": "markdown",
      "metadata": {
        "id": "view-in-github",
        "colab_type": "text"
      },
      "source": [
        "<a href=\"https://colab.research.google.com/github/manoj-raghav/python/blob/main/17/12/2021.ipynb\" target=\"_parent\"><img src=\"https://colab.research.google.com/assets/colab-badge.svg\" alt=\"Open In Colab\"/></a>"
      ]
    },
    {
      "cell_type": "code",
      "execution_count": 2,
      "metadata": {
        "id": "3uDZCYPNZTTE"
      },
      "outputs": [],
      "source": [
        "import pandas as pd\n",
        "import matplotlib.pyplot as mp\n",
        "import numpy as np\n",
        "players=['A','B','C','D','E']\n",
        "score=[98,89,78,92,93]"
      ]
    },
    {
      "cell_type": "code",
      "source": [
        "p=np.array(players)\n",
        "s=np.array(score)\n",
        "for i in p:\n",
        "  print(i,end=\" \")\n",
        "  "
      ],
      "metadata": {
        "colab": {
          "base_uri": "https://localhost:8080/"
        },
        "id": "SpeKaLb9afv-",
        "outputId": "39b15536-a0cb-4e7e-de2b-f4a74b5ac07f"
      },
      "execution_count": 23,
      "outputs": [
        {
          "output_type": "stream",
          "name": "stdout",
          "text": [
            "A B C D E "
          ]
        }
      ]
    },
    {
      "cell_type": "code",
      "source": [
        "for i in range(len(p)):\n",
        "  p1=p[i]\n",
        "  s1=s[i]\n",
        "  print('player {} : scores {}'.format(p1,s1))\n",
        "  "
      ],
      "metadata": {
        "colab": {
          "base_uri": "https://localhost:8080/"
        },
        "id": "EYsBfuNja3Q4",
        "outputId": "37363e5f-bbdd-49e1-e12f-62d1c2ef07f2"
      },
      "execution_count": 27,
      "outputs": [
        {
          "output_type": "stream",
          "name": "stdout",
          "text": [
            "player A : scores 98\n",
            "player B : scores 89\n",
            "player C : scores 78\n",
            "player D : scores 92\n",
            "player E : scores 93\n"
          ]
        }
      ]
    }
  ]
}