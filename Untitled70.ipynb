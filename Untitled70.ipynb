{
  "nbformat": 4,
  "nbformat_minor": 0,
  "metadata": {
    "colab": {
      "name": "Untitled70.ipynb",
      "provenance": [],
      "authorship_tag": "ABX9TyPncLY97X3bUHL5wgZh/5Z2",
      "include_colab_link": true
    },
    "kernelspec": {
      "name": "python3",
      "display_name": "Python 3"
    },
    "language_info": {
      "name": "python"
    }
  },
  "cells": [
    {
      "cell_type": "markdown",
      "metadata": {
        "id": "view-in-github",
        "colab_type": "text"
      },
      "source": [
        "<a href=\"https://colab.research.google.com/github/manoj-raghav/python/blob/main/Untitled70.ipynb\" target=\"_parent\"><img src=\"https://colab.research.google.com/assets/colab-badge.svg\" alt=\"Open In Colab\"/></a>"
      ]
    },
    {
      "cell_type": "code",
      "source": [
        "import numpy as np\n",
        "from numpy import random"
      ],
      "metadata": {
        "id": "LfVOKp1mlTbD"
      },
      "execution_count": 3,
      "outputs": []
    },
    {
      "cell_type": "markdown",
      "source": [
        "RANDOM DISTRIBUTION"
      ],
      "metadata": {
        "id": "E9eFIBScmZ5O"
      }
    },
    {
      "cell_type": "code",
      "source": [
        "x=random.choice([3,4,5,6],p=[0.5,0.4,0.1,0.0],size=(100))\n",
        "x\n",
        "#[3,4,5,6] is the fixed array from which the random numbers have to generated\n",
        "#p=[0.5,0.4,0.1,0.0] is the probabilities of the respective array values to occur\n",
        "#NOTE: sum of the all probabilities = 1\n",
        "#here we'd given the probaility as 0.0 for value 6 and hence we didnt get the number 6 in random values\n",
        "#more is the probability ,more no.of times the value occurs"
      ],
      "metadata": {
        "colab": {
          "base_uri": "https://localhost:8080/"
        },
        "id": "ozfelUpflyig",
        "outputId": "8b876fb0-993b-40fd-c7d0-7c574ba99e68"
      },
      "execution_count": 14,
      "outputs": [
        {
          "output_type": "execute_result",
          "data": {
            "text/plain": [
              "array([3, 5, 4, 4, 4, 4, 5, 4, 3, 4, 5, 5, 4, 3, 4, 3, 3, 4, 3, 3, 4, 3,\n",
              "       4, 4, 4, 3, 3, 4, 4, 4, 5, 3, 3, 3, 5, 3, 3, 3, 3, 3, 5, 3, 4, 3,\n",
              "       3, 3, 3, 3, 3, 4, 3, 3, 5, 4, 4, 5, 3, 4, 4, 3, 3, 4, 3, 3, 3, 4,\n",
              "       3, 4, 4, 3, 3, 4, 4, 4, 3, 4, 4, 3, 3, 4, 3, 3, 3, 3, 5, 4, 3, 3,\n",
              "       3, 4, 4, 3, 4, 3, 3, 3, 3, 3, 3, 5])"
            ]
          },
          "metadata": {},
          "execution_count": 14
        }
      ]
    },
    {
      "cell_type": "code",
      "source": [
        "x=random.choice([3,4,5,6],p=[0.5,0.4,0.1],size=(100))\n",
        "x\n",
        "#array size and p(probaility) size must be equal"
      ],
      "metadata": {
        "colab": {
          "base_uri": "https://localhost:8080/",
          "height": 217
        },
        "id": "I3P9bHJcnQqT",
        "outputId": "676ac1a8-ae0b-42ec-d89b-5dbb5a9b9271"
      },
      "execution_count": 15,
      "outputs": [
        {
          "output_type": "error",
          "ename": "ValueError",
          "evalue": "ignored",
          "traceback": [
            "\u001b[0;31m---------------------------------------------------------------------------\u001b[0m",
            "\u001b[0;31mValueError\u001b[0m                                Traceback (most recent call last)",
            "\u001b[0;32m<ipython-input-15-4ef671176ba2>\u001b[0m in \u001b[0;36m<module>\u001b[0;34m()\u001b[0m\n\u001b[0;32m----> 1\u001b[0;31m \u001b[0mx\u001b[0m\u001b[0;34m=\u001b[0m\u001b[0mrandom\u001b[0m\u001b[0;34m.\u001b[0m\u001b[0mchoice\u001b[0m\u001b[0;34m(\u001b[0m\u001b[0;34m[\u001b[0m\u001b[0;36m3\u001b[0m\u001b[0;34m,\u001b[0m\u001b[0;36m4\u001b[0m\u001b[0;34m,\u001b[0m\u001b[0;36m5\u001b[0m\u001b[0;34m,\u001b[0m\u001b[0;36m6\u001b[0m\u001b[0;34m]\u001b[0m\u001b[0;34m,\u001b[0m\u001b[0mp\u001b[0m\u001b[0;34m=\u001b[0m\u001b[0;34m[\u001b[0m\u001b[0;36m0.5\u001b[0m\u001b[0;34m,\u001b[0m\u001b[0;36m0.4\u001b[0m\u001b[0;34m,\u001b[0m\u001b[0;36m0.1\u001b[0m\u001b[0;34m]\u001b[0m\u001b[0;34m,\u001b[0m\u001b[0msize\u001b[0m\u001b[0;34m=\u001b[0m\u001b[0;34m(\u001b[0m\u001b[0;36m100\u001b[0m\u001b[0;34m)\u001b[0m\u001b[0;34m)\u001b[0m\u001b[0;34m\u001b[0m\u001b[0;34m\u001b[0m\u001b[0m\n\u001b[0m\u001b[1;32m      2\u001b[0m \u001b[0mx\u001b[0m\u001b[0;34m\u001b[0m\u001b[0;34m\u001b[0m\u001b[0m\n",
            "\u001b[0;32mmtrand.pyx\u001b[0m in \u001b[0;36mnumpy.random.mtrand.RandomState.choice\u001b[0;34m()\u001b[0m\n",
            "\u001b[0;31mValueError\u001b[0m: 'a' and 'p' must have same size"
          ]
        }
      ]
    },
    {
      "cell_type": "code",
      "source": [
        "x=random.choice([3,4,5,6],p=[0.8,0.1,0.1,0.0],size=(100))\n",
        "x"
      ],
      "metadata": {
        "colab": {
          "base_uri": "https://localhost:8080/"
        },
        "id": "oAMChvrFnft3",
        "outputId": "ec65484a-3a22-4759-e6ab-847ae754c66f"
      },
      "execution_count": 16,
      "outputs": [
        {
          "output_type": "execute_result",
          "data": {
            "text/plain": [
              "array([3, 3, 5, 5, 5, 3, 3, 3, 5, 5, 3, 5, 3, 4, 3, 4, 3, 3, 3, 3, 3, 3,\n",
              "       5, 3, 3, 3, 3, 3, 3, 5, 3, 3, 3, 3, 3, 3, 3, 5, 3, 5, 5, 3, 4, 3,\n",
              "       5, 3, 3, 3, 3, 5, 3, 3, 3, 3, 3, 3, 3, 3, 4, 3, 3, 3, 3, 4, 3, 3,\n",
              "       3, 3, 3, 3, 3, 3, 3, 3, 4, 5, 3, 3, 3, 5, 3, 3, 3, 4, 3, 3, 3, 3,\n",
              "       3, 3, 3, 3, 3, 3, 3, 4, 3, 3, 3, 4])"
            ]
          },
          "metadata": {},
          "execution_count": 16
        }
      ]
    },
    {
      "cell_type": "code",
      "source": [
        "x=random.choice([3,4,5,6],p=[1.0,0.0,0.0,0.0],size=(100))\n",
        "x\n",
        "#sine the probaility of all other values except 3 is 0.0 only 3 will be displayed 100 times"
      ],
      "metadata": {
        "colab": {
          "base_uri": "https://localhost:8080/"
        },
        "id": "ilR2ZYTKnm2L",
        "outputId": "e9427041-8d29-4561-c356-0f9a63c594ea"
      },
      "execution_count": 18,
      "outputs": [
        {
          "output_type": "execute_result",
          "data": {
            "text/plain": [
              "array([3, 3, 3, 3, 3, 3, 3, 3, 3, 3, 3, 3, 3, 3, 3, 3, 3, 3, 3, 3, 3, 3,\n",
              "       3, 3, 3, 3, 3, 3, 3, 3, 3, 3, 3, 3, 3, 3, 3, 3, 3, 3, 3, 3, 3, 3,\n",
              "       3, 3, 3, 3, 3, 3, 3, 3, 3, 3, 3, 3, 3, 3, 3, 3, 3, 3, 3, 3, 3, 3,\n",
              "       3, 3, 3, 3, 3, 3, 3, 3, 3, 3, 3, 3, 3, 3, 3, 3, 3, 3, 3, 3, 3, 3,\n",
              "       3, 3, 3, 3, 3, 3, 3, 3, 3, 3, 3, 3])"
            ]
          },
          "metadata": {},
          "execution_count": 18
        }
      ]
    },
    {
      "cell_type": "code",
      "source": [
        "x=random.choice([3,4,5,6],p=[1.0,0.0,0.0,0.0],size=(3,5))\n",
        "x\n",
        "#we can also declare the array size"
      ],
      "metadata": {
        "colab": {
          "base_uri": "https://localhost:8080/"
        },
        "id": "kOUwk4JEn4t_",
        "outputId": "9f4bf5d6-929b-41c8-9e83-36372746543e"
      },
      "execution_count": 19,
      "outputs": [
        {
          "output_type": "execute_result",
          "data": {
            "text/plain": [
              "array([[3, 3, 3, 3, 3],\n",
              "       [3, 3, 3, 3, 3],\n",
              "       [3, 3, 3, 3, 3]])"
            ]
          },
          "metadata": {},
          "execution_count": 19
        }
      ]
    }
  ]
}