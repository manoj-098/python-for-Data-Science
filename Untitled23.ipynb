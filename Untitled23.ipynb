{
  "nbformat": 4,
  "nbformat_minor": 0,
  "metadata": {
    "colab": {
      "name": "Untitled23.ipynb",
      "provenance": [],
      "authorship_tag": "ABX9TyMg3my+xBClxubBfASwW2/n",
      "include_colab_link": true
    },
    "kernelspec": {
      "name": "python3",
      "display_name": "Python 3"
    },
    "language_info": {
      "name": "python"
    }
  },
  "cells": [
    {
      "cell_type": "markdown",
      "metadata": {
        "id": "view-in-github",
        "colab_type": "text"
      },
      "source": [
        "<a href=\"https://colab.research.google.com/github/manoj-raghav/python/blob/main/Untitled23.ipynb\" target=\"_parent\"><img src=\"https://colab.research.google.com/assets/colab-badge.svg\" alt=\"Open In Colab\"/></a>"
      ]
    },
    {
      "cell_type": "code",
      "execution_count": 31,
      "metadata": {
        "colab": {
          "base_uri": "https://localhost:8080/"
        },
        "id": "ijn9OpsAoWIo",
        "outputId": "a0654f58-5e75-4b7d-e53f-72a1f4fb0f84"
      },
      "outputs": [
        {
          "output_type": "stream",
          "name": "stdout",
          "text": [
            "     0\n",
            "90  10\n",
            "80  20\n",
            "70  30\n"
          ]
        }
      ],
      "source": [
        "import pandas as pd\n",
        "import numpy as np\n",
        "df=pd.DataFrame([10,20,30,40,50],[90,80,70,60,50])\n",
        "print(df.iloc[-5:3])"
      ]
    },
    {
      "cell_type": "code",
      "source": [
        "dictionary={\"name\":[1,1,1,2,3,4],\"age\":[1,2,2,2,3,4]}\n",
        "d=pd.DataFrame(dictionary)\n",
        "d.drop('age',axis=1,inplace=True)\n",
        "print(d)"
      ],
      "metadata": {
        "id": "2W-ulNyMzlqN",
        "outputId": "789aa9a8-0985-4e6f-8b73-631d3a0195c6",
        "colab": {
          "base_uri": "https://localhost:8080/"
        }
      },
      "execution_count": 71,
      "outputs": [
        {
          "output_type": "stream",
          "name": "stdout",
          "text": [
            "   name\n",
            "0     1\n",
            "1     2\n",
            "2     3\n",
            "3     4\n"
          ]
        }
      ]
    },
    {
      "cell_type": "code",
      "source": [
        "\n",
        "dictionary={'name':[1,2,3,4,5,],'age':[1,2,3,4,5]}\n",
        "\n",
        "\n",
        "d=pd.DataFrame(dictionary)\n",
        "\n",
        "d.drop('name',axis=1,inplace=True)\n",
        "print(d)"
      ],
      "metadata": {
        "id": "i55SO5vV7KWA",
        "outputId": "d49f6d02-8871-4f81-85dd-a62445bf8227",
        "colab": {
          "base_uri": "https://localhost:8080/"
        }
      },
      "execution_count": 93,
      "outputs": [
        {
          "output_type": "stream",
          "name": "stdout",
          "text": [
            "   age\n",
            "0    1\n",
            "1    2\n",
            "2    3\n",
            "3    4\n",
            "4    5\n"
          ]
        }
      ]
    },
    {
      "cell_type": "code",
      "source": [
        "dictionary={\n",
        "    \"name\":[1,2,3,45,5],\n",
        "    \"age\":[1,2,3,4,5,]\n",
        "}\n",
        "d=pd.DataFrame(dictionary)\n",
        "\n",
        "d.drop('name',axis=1)\n",
        "print(d)"
      ],
      "metadata": {
        "id": "EldjYiKV-ED3",
        "outputId": "918b618e-fd33-4d5b-811c-6e7b903a54fa",
        "colab": {
          "base_uri": "https://localhost:8080/"
        }
      },
      "execution_count": 99,
      "outputs": [
        {
          "output_type": "stream",
          "name": "stdout",
          "text": [
            "   name  age\n",
            "0     1    1\n",
            "1     2    2\n",
            "2     3    3\n",
            "3    45    4\n",
            "4     5    5\n"
          ]
        }
      ]
    }
  ]
}