{
  "nbformat": 4,
  "nbformat_minor": 0,
  "metadata": {
    "colab": {
      "name": "Untitled56.ipynb",
      "provenance": [],
      "include_colab_link": true
    },
    "kernelspec": {
      "name": "python3",
      "display_name": "Python 3"
    },
    "language_info": {
      "name": "python"
    }
  },
  "cells": [
    {
      "cell_type": "markdown",
      "metadata": {
        "id": "view-in-github",
        "colab_type": "text"
      },
      "source": [
        "<a href=\"https://colab.research.google.com/github/manoj-raghav/python/blob/main/Untitled57.ipynb\" target=\"_parent\"><img src=\"https://colab.research.google.com/assets/colab-badge.svg\" alt=\"Open In Colab\"/></a>"
      ]
    },
    {
      "cell_type": "code",
      "execution_count": null,
      "metadata": {
        "id": "N5LMAf16dlRz"
      },
      "outputs": [],
      "source": [
        "import numpy as np"
      ]
    },
    {
      "cell_type": "markdown",
      "source": [
        "BUFFERED"
      ],
      "metadata": {
        "id": "jbjIOccKlEwy"
      }
    },
    {
      "cell_type": "code",
      "source": [
        "#to convert data types of elements of array we use op_dtypes which requires a space called buffer\n",
        "a=np.array([[1,2,3]])\n",
        "for i in np.nditer(a,flags=['buffered'],op_dtypes=['S']):\n",
        "  print(i)\n"
      ],
      "metadata": {
        "colab": {
          "base_uri": "https://localhost:8080/"
        },
        "id": "mChM7BD8kiup",
        "outputId": "4703b46e-573e-4b52-8e06-a443b8218847"
      },
      "execution_count": null,
      "outputs": [
        {
          "output_type": "stream",
          "name": "stdout",
          "text": [
            "b'1'\n",
            "b'2'\n",
            "b'3'\n",
            "int64\n"
          ]
        }
      ]
    },
    {
      "cell_type": "code",
      "source": [
        "a=np.array([[1,2,3,4,5,6],[7,8,9,10,11,12]])\n",
        "for i in np.nditer(a[:,::2]):\n",
        "  print(i)\n",
        "\n",
        "#[:,::2]-star fromm 0 and run till end and increase position by 2"
      ],
      "metadata": {
        "colab": {
          "base_uri": "https://localhost:8080/"
        },
        "id": "HfQCKwygn60r",
        "outputId": "d7552942-0e10-485b-9a30-b8c189159a2b"
      },
      "execution_count": null,
      "outputs": [
        {
          "output_type": "stream",
          "name": "stdout",
          "text": [
            "1\n",
            "3\n",
            "5\n",
            "7\n",
            "9\n",
            "11\n"
          ]
        }
      ]
    },
    {
      "cell_type": "markdown",
      "source": [
        "ENUMERATION"
      ],
      "metadata": {
        "id": "jjlhUfq6piAS"
      }
    },
    {
      "cell_type": "code",
      "source": [
        "a=np.array([1,2,3,4])\n",
        "for idx ,x in np.ndenumerate(a):\n",
        "  print(idx,x)"
      ],
      "metadata": {
        "colab": {
          "base_uri": "https://localhost:8080/"
        },
        "id": "N5KSUE2Bp28z",
        "outputId": "2638a9e6-bf5b-4977-d7f4-b2a170ab27d1"
      },
      "execution_count": null,
      "outputs": [
        {
          "output_type": "stream",
          "name": "stdout",
          "text": [
            "(0,) 1\n",
            "(1,) 2\n",
            "(2,) 3\n",
            "(3,) 4\n"
          ]
        }
      ]
    },
    {
      "cell_type": "code",
      "source": [
        "#for printing the index along with the elememt\n",
        "a=np.array([[1,2,3,4,5,6],[7,8,9,10,11,12]])\n",
        "\n",
        "for idx, x in np.ndenumerate(a):\n",
        "  print(idx,x)"
      ],
      "metadata": {
        "colab": {
          "base_uri": "https://localhost:8080/"
        },
        "id": "ejqNN-wmoi1q",
        "outputId": "61e47fc4-4037-4ebf-f909-5e33a80371c2"
      },
      "execution_count": null,
      "outputs": [
        {
          "output_type": "stream",
          "name": "stdout",
          "text": [
            "(0, 0) 1\n",
            "(0, 1) 2\n",
            "(0, 2) 3\n",
            "(0, 3) 4\n",
            "(0, 4) 5\n",
            "(0, 5) 6\n",
            "(1, 0) 7\n",
            "(1, 1) 8\n",
            "(1, 2) 9\n",
            "(1, 3) 10\n",
            "(1, 4) 11\n",
            "(1, 5) 12\n"
          ]
        }
      ]
    }
  ]
}