{
  "nbformat": 4,
  "nbformat_minor": 0,
  "metadata": {
    "colab": {
      "name": "Untitled63.ipynb",
      "provenance": [],
      "include_colab_link": true
    },
    "kernelspec": {
      "name": "python3",
      "display_name": "Python 3"
    },
    "language_info": {
      "name": "python"
    }
  },
  "cells": [
    {
      "cell_type": "markdown",
      "metadata": {
        "id": "view-in-github",
        "colab_type": "text"
      },
      "source": [
        "<a href=\"https://colab.research.google.com/github/manoj-raghav/python/blob/main/Untitled64.ipynb\" target=\"_parent\"><img src=\"https://colab.research.google.com/assets/colab-badge.svg\" alt=\"Open In Colab\"/></a>"
      ]
    },
    {
      "cell_type": "markdown",
      "source": [
        "ARRAY SORTING"
      ],
      "metadata": {
        "id": "bx0P2bRQ7kC0"
      }
    },
    {
      "cell_type": "code",
      "source": [
        "import numpy as np"
      ],
      "metadata": {
        "id": "os8VpfL47qjS"
      },
      "execution_count": 1,
      "outputs": []
    },
    {
      "cell_type": "code",
      "source": [
        "#sorting in 3D array\n",
        "a=np.array([[[2,1,7,2,9],[4,3,4,2,3]],\n",
        "           [[6,5,1,0,7],[8,6,3,4,7]]])\n",
        "\"\"\"\"x1=np.sort([a[0][0],a[0][1]])\n",
        "x2=np.sort([a[1][0],a[1][1]])\n",
        "print(x1)\n",
        "print('\\n----------------------\\n')\n",
        "print(x2)\"\"\"\n",
        "x=np.sort(a)\n",
        "x\n"
      ],
      "metadata": {
        "id": "ipZ9g4NyCTYO",
        "outputId": "b820bbf9-031e-4e5d-a4ee-f7295d196fe3",
        "colab": {
          "base_uri": "https://localhost:8080/"
        }
      },
      "execution_count": 2,
      "outputs": [
        {
          "output_type": "execute_result",
          "data": {
            "text/plain": [
              "array([[[1, 2, 2, 7, 9],\n",
              "        [2, 3, 3, 4, 4]],\n",
              "\n",
              "       [[0, 1, 5, 6, 7],\n",
              "        [3, 4, 6, 7, 8]]])"
            ]
          },
          "metadata": {},
          "execution_count": 2
        }
      ]
    },
    {
      "cell_type": "code",
      "source": [
        "#but for sorting in 2D,3D arrays the it should contain equal number of elements\n",
        "#if we give unequal elements it wil show error\n",
        "a1=np.array([[2,3,4],[5,7,6,8]])\n",
        "x=np.sort([a1[0],a1[1]])\n",
        "# unequal elements hence not executed"
      ],
      "metadata": {
        "id": "-3_LQMcTEq8H",
        "outputId": "621c622a-1dbe-4dbe-a9f0-985d405bb022",
        "colab": {
          "base_uri": "https://localhost:8080/"
        }
      },
      "execution_count": 3,
      "outputs": [
        {
          "output_type": "stream",
          "name": "stderr",
          "text": [
            "/usr/local/lib/python3.7/dist-packages/ipykernel_launcher.py:3: VisibleDeprecationWarning: Creating an ndarray from ragged nested sequences (which is a list-or-tuple of lists-or-tuples-or ndarrays with different lengths or shapes) is deprecated. If you meant to do this, you must specify 'dtype=object' when creating the ndarray\n",
            "  This is separate from the ipykernel package so we can avoid doing imports until\n",
            "/usr/local/lib/python3.7/dist-packages/numpy/core/_asarray.py:136: VisibleDeprecationWarning: Creating an ndarray from ragged nested sequences (which is a list-or-tuple of lists-or-tuples-or ndarrays with different lengths or shapes) is deprecated. If you meant to do this, you must specify 'dtype=object' when creating the ndarray\n",
            "  return array(a, dtype, copy=False, order=order, subok=True)\n"
          ]
        }
      ]
    },
    {
      "cell_type": "code",
      "source": [
        "a=np.array([[[2,1,7,2,9],[4,3,4,2,3]],\n",
        "           [[6,5,1,0,7],[8,4,7]]])\n",
        "x1=np.sort([a[0][0],a[0][1]])\n",
        "x2=np.sort([a[1][0],a[1][1]])\n",
        "print(x1)\n",
        "print('\\n----------------------\\n')\n",
        "print(x2)\n",
        "#here the first row has equal elements and so it has beeen sorted but the second row has unequal elements and it has not been executed"
      ],
      "metadata": {
        "id": "2gr5CYiPFkaT",
        "outputId": "a0398c9b-36fd-4cd8-b611-088012df5989",
        "colab": {
          "base_uri": "https://localhost:8080/"
        }
      },
      "execution_count": 4,
      "outputs": [
        {
          "output_type": "stream",
          "name": "stdout",
          "text": [
            "[[1 2 2 7 9]\n",
            " [2 3 3 4 4]]\n",
            "\n",
            "----------------------\n",
            "\n",
            "[list([6, 5, 1, 0, 7]) list([8, 4, 7])]\n"
          ]
        },
        {
          "output_type": "stream",
          "name": "stderr",
          "text": [
            "/usr/local/lib/python3.7/dist-packages/ipykernel_launcher.py:2: VisibleDeprecationWarning: Creating an ndarray from ragged nested sequences (which is a list-or-tuple of lists-or-tuples-or ndarrays with different lengths or shapes) is deprecated. If you meant to do this, you must specify 'dtype=object' when creating the ndarray\n",
            "  \n",
            "/usr/local/lib/python3.7/dist-packages/numpy/core/_asarray.py:136: VisibleDeprecationWarning: Creating an ndarray from ragged nested sequences (which is a list-or-tuple of lists-or-tuples-or ndarrays with different lengths or shapes) is deprecated. If you meant to do this, you must specify 'dtype=object' when creating the ndarray\n",
            "  return array(a, dtype, copy=False, order=order, subok=True)\n"
          ]
        }
      ]
    },
    {
      "cell_type": "markdown",
      "source": [
        "SORTING STRING\n",
        "\n",
        "\n",
        "\n",
        "\n"
      ],
      "metadata": {
        "id": "kux3YI4oHbtV"
      }
    },
    {
      "cell_type": "code",
      "source": [
        "a=np.array(['banana','apple','cherry','Cherry','Zmbee'])\n",
        "x=np.sort(a)\n",
        "x\n",
        "#it checks on basis of ASCII values and upper case has higher preference ASCII values than lower case"
      ],
      "metadata": {
        "id": "_3eQJmp5HXfz",
        "outputId": "d936b4ee-0280-45ff-f59c-168c089127a2",
        "colab": {
          "base_uri": "https://localhost:8080/"
        }
      },
      "execution_count": 5,
      "outputs": [
        {
          "output_type": "execute_result",
          "data": {
            "text/plain": [
              "array(['Cherry', 'Zmbee', 'apple', 'banana', 'cherry'], dtype='<U6')"
            ]
          },
          "metadata": {},
          "execution_count": 5
        }
      ]
    },
    {
      "cell_type": "code",
      "source": [
        "#soritng booleans\n",
        "a=np.array([True,False,True])\n",
        "x=np.sort(a)\n",
        "x"
      ],
      "metadata": {
        "id": "xRJZf4TFJS2a",
        "outputId": "6dc9b3ea-83ed-4921-8de5-b8ef865c6229",
        "colab": {
          "base_uri": "https://localhost:8080/"
        }
      },
      "execution_count": 6,
      "outputs": [
        {
          "output_type": "execute_result",
          "data": {
            "text/plain": [
              "array([False,  True,  True])"
            ]
          },
          "metadata": {},
          "execution_count": 6
        }
      ]
    },
    {
      "cell_type": "code",
      "source": [
        "a1=np.array(['True','false','True'])\n",
        "x=np.sort(a1)\n",
        "\n",
        "x\n",
        "#if booleans has been given inside quotes it will be consideredc as strings"
      ],
      "metadata": {
        "id": "RaHQWm_zJmXY",
        "outputId": "301f97df-1141-4012-e5ea-edbbb1156df4",
        "colab": {
          "base_uri": "https://localhost:8080/"
        }
      },
      "execution_count": null,
      "outputs": [
        {
          "output_type": "execute_result",
          "data": {
            "text/plain": [
              "array(['True', 'True', 'false'], dtype='<U5')"
            ]
          },
          "metadata": {},
          "execution_count": 110
        }
      ]
    }
  ]
}