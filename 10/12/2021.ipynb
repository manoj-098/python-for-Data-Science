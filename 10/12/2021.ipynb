{
  "nbformat": 4,
  "nbformat_minor": 0,
  "metadata": {
    "colab": {
      "name": "Untitled6.ipynb",
      "provenance": [],
      "authorship_tag": "ABX9TyO//G6DlHYui54O0/d44Zmx",
      "include_colab_link": true
    },
    "kernelspec": {
      "name": "python3",
      "display_name": "Python 3"
    },
    "language_info": {
      "name": "python"
    }
  },
  "cells": [
    {
      "cell_type": "markdown",
      "metadata": {
        "id": "view-in-github",
        "colab_type": "text"
      },
      "source": [
        "<a href=\"https://colab.research.google.com/github/manoj-raghav/python/blob/main/10/12/2021.ipynb\" target=\"_parent\"><img src=\"https://colab.research.google.com/assets/colab-badge.svg\" alt=\"Open In Colab\"/></a>"
      ]
    },
    {
      "cell_type": "code",
      "execution_count": 2,
      "metadata": {
        "colab": {
          "base_uri": "https://localhost:8080/"
        },
        "id": "rHBK6O54b1Ig",
        "outputId": "fe342d56-fa51-4128-9676-475ac4ac16f5"
      },
      "outputs": [
        {
          "output_type": "stream",
          "name": "stdout",
          "text": [
            "     subject  marks\n",
            "1    PHYSICS     90\n",
            "2  CHEMISTRY     94\n",
            "3      MATHS     92\n",
            "4    ENGLISH     93\n"
          ]
        }
      ],
      "source": [
        "import pandas as pd\n",
        "dictionary={\n",
        "    \"subject\":[\"PHYSICS\",\"CHEMISTRY\",'MATHS','ENGLISH'],\n",
        "    \"marks\":[90,94,92,93]\n",
        "}\n",
        "\n",
        "result=pd.DataFrame(dictionary,index=[1,2,3,4])\n",
        "print(result)"
      ]
    }
  ]
}