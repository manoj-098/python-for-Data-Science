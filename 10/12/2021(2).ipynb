{
  "nbformat": 4,
  "nbformat_minor": 0,
  "metadata": {
    "colab": {
      "name": "Untitled7.ipynb",
      "provenance": [],
      "authorship_tag": "ABX9TyPX/uoe0it8J98WBCxiTut/",
      "include_colab_link": true
    },
    "kernelspec": {
      "name": "python3",
      "display_name": "Python 3"
    },
    "language_info": {
      "name": "python"
    }
  },
  "cells": [
    {
      "cell_type": "markdown",
      "metadata": {
        "id": "view-in-github",
        "colab_type": "text"
      },
      "source": [
        "<a href=\"https://colab.research.google.com/github/manoj-raghav/python/blob/main/10/12/2021(2).ipynb\" target=\"_parent\"><img src=\"https://colab.research.google.com/assets/colab-badge.svg\" alt=\"Open In Colab\"/></a>"
      ]
    },
    {
      "cell_type": "code",
      "execution_count": 2,
      "metadata": {
        "colab": {
          "base_uri": "https://localhost:8080/"
        },
        "id": "KFfFvLdvdEqA",
        "outputId": "d5d50311-6a37-4888-dcc1-e94ac2e01459"
      },
      "outputs": [
        {
          "output_type": "stream",
          "name": "stdout",
          "text": [
            "once vivekanada said that whe the path which we use to travel is going smooth without any obstacles and sacrigices , then we should be aware \n",
            "that we are going in a wrong path\n"
          ]
        }
      ],
      "source": [
        "print(\"\"\"once vivekanada said that whe the path which we use to travel is going smooth without any obstacles and sacrigices , then we should be aware \n",
        "that we are going in a wrong path\"\"\")"
      ]
    }
  ]
}