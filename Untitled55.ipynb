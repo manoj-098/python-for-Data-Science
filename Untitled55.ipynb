{
  "nbformat": 4,
  "nbformat_minor": 0,
  "metadata": {
    "colab": {
      "name": "Untitled55 (1).ipynb",
      "provenance": [],
      "include_colab_link": true
    },
    "kernelspec": {
      "name": "python3",
      "display_name": "Python 3"
    },
    "language_info": {
      "name": "python"
    }
  },
  "cells": [
    {
      "cell_type": "markdown",
      "metadata": {
        "id": "view-in-github",
        "colab_type": "text"
      },
      "source": [
        "<a href=\"https://colab.research.google.com/github/manoj-raghav/python/blob/main/Untitled55.ipynb\" target=\"_parent\"><img src=\"https://colab.research.google.com/assets/colab-badge.svg\" alt=\"Open In Colab\"/></a>"
      ]
    },
    {
      "cell_type": "code",
      "execution_count": 2,
      "metadata": {
        "id": "0uUzw927ITda"
      },
      "outputs": [],
      "source": [
        "import numpy as np"
      ]
    },
    {
      "cell_type": "markdown",
      "source": [
        "ARRAY SHAPE\n",
        "\n"
      ],
      "metadata": {
        "id": "7K_dD7pAIcpS"
      }
    },
    {
      "cell_type": "code",
      "source": [
        "a=np.array([1,2,3,4])\n",
        "b=np.array([[1,2,3],[1,2,3]])\n",
        "c=np.array([[[1,2,3],[1,2,3]],\n",
        "            [[1,2,3],[1,2,3]],\n",
        "            [[4,5,6],[6,7,8]]])\n",
        "\n",
        "print(a.shape)\n",
        "\n",
        "\n",
        "print('\\n')\n",
        "c"
      ],
      "metadata": {
        "colab": {
          "base_uri": "https://localhost:8080/"
        },
        "id": "PW70nOa-IfPa",
        "outputId": "d603039f-525e-4a07-8d00-8ca68c0cafd1"
      },
      "execution_count": 3,
      "outputs": [
        {
          "output_type": "stream",
          "name": "stdout",
          "text": [
            "(4,)\n",
            "(2, 3)\n",
            "(3, 2, 3)\n",
            "\n",
            "\n"
          ]
        },
        {
          "output_type": "execute_result",
          "data": {
            "text/plain": [
              "array([[[1, 2, 3],\n",
              "        [1, 2, 3]],\n",
              "\n",
              "       [[1, 2, 3],\n",
              "        [1, 2, 3]],\n",
              "\n",
              "       [[4, 5, 6],\n",
              "        [6, 7, 8]]])"
            ]
          },
          "metadata": {},
          "execution_count": 3
        }
      ]
    },
    {
      "cell_type": "code",
      "source": [
        "print(b.shape)"
      ],
      "metadata": {
        "colab": {
          "base_uri": "https://localhost:8080/"
        },
        "id": "SREbdZtvXGm7",
        "outputId": "39135818-7327-484d-d162-310d0c0995da"
      },
      "execution_count": 4,
      "outputs": [
        {
          "output_type": "stream",
          "name": "stdout",
          "text": [
            "(2, 3)\n"
          ]
        }
      ]
    },
    {
      "cell_type": "code",
      "source": [
        "print(c.shape)"
      ],
      "metadata": {
        "colab": {
          "base_uri": "https://localhost:8080/"
        },
        "id": "jeX1T4ONXNVA",
        "outputId": "2012edbd-c8c2-494d-b17e-62e07f3dae49"
      },
      "execution_count": 5,
      "outputs": [
        {
          "output_type": "stream",
          "name": "stdout",
          "text": [
            "(3, 2, 3)\n"
          ]
        }
      ]
    },
    {
      "cell_type": "code",
      "source": [
        "#RESHAPE\n",
        "\n",
        "#from 1D to D\n",
        "\n",
        "c=np.array([1,2,3,4,5,6,7,8,9,10])\n",
        "x=c.reshape(2,5)\n",
        "\n",
        "print(x)\n",
        "\n"
      ],
      "metadata": {
        "colab": {
          "base_uri": "https://localhost:8080/"
        },
        "id": "BTsdAPbtJHxM",
        "outputId": "ea589c7b-d2ab-4ce3-9b78-08fc837ec4e8"
      },
      "execution_count": 8,
      "outputs": [
        {
          "output_type": "stream",
          "name": "stdout",
          "text": [
            "[[ 1  2  3  4  5]\n",
            " [ 6  7  8  9 10]]\n"
          ]
        }
      ]
    },
    {
      "cell_type": "code",
      "source": [
        "y=c.reshape(5,1,2)\n",
        "print(y)"
      ],
      "metadata": {
        "colab": {
          "base_uri": "https://localhost:8080/"
        },
        "id": "3kSEEGzbXWRU",
        "outputId": "6f5d9fdf-1f49-4caa-c14b-5ef06b990cdf"
      },
      "execution_count": 9,
      "outputs": [
        {
          "output_type": "stream",
          "name": "stdout",
          "text": [
            "[[[ 1  2]]\n",
            "\n",
            " [[ 3  4]]\n",
            "\n",
            " [[ 5  6]]\n",
            "\n",
            " [[ 7  8]]\n",
            "\n",
            " [[ 9 10]]]\n"
          ]
        }
      ]
    },
    {
      "cell_type": "code",
      "source": [
        "#check whether it is a view or a copy\n",
        "print(c.reshape(2,5).base)\n",
        "\n",
        "#since it returns the original array,it ia a view"
      ],
      "metadata": {
        "colab": {
          "base_uri": "https://localhost:8080/"
        },
        "id": "7N2k9ijFKe73",
        "outputId": "f97dc1e4-d6ab-4a18-89e1-430481608ab9"
      },
      "execution_count": null,
      "outputs": [
        {
          "output_type": "stream",
          "name": "stdout",
          "text": [
            "[ 1  2  3  4  5  6  7  8  9 10]\n"
          ]
        }
      ]
    }
  ]
}