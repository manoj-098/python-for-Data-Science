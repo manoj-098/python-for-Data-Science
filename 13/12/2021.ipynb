{
  "nbformat": 4,
  "nbformat_minor": 0,
  "metadata": {
    "colab": {
      "name": "Untitled19.ipynb",
      "provenance": [],
      "authorship_tag": "ABX9TyNXrmYcqUAQm2NCSdtEPqts",
      "include_colab_link": true
    },
    "kernelspec": {
      "name": "python3",
      "display_name": "Python 3"
    },
    "language_info": {
      "name": "python"
    }
  },
  "cells": [
    {
      "cell_type": "markdown",
      "metadata": {
        "id": "view-in-github",
        "colab_type": "text"
      },
      "source": [
        "<a href=\"https://colab.research.google.com/github/manoj-raghav/python/blob/main/13/12/2021.ipynb\" target=\"_parent\"><img src=\"https://colab.research.google.com/assets/colab-badge.svg\" alt=\"Open In Colab\"/></a>"
      ]
    },
    {
      "cell_type": "code",
      "execution_count": 10,
      "metadata": {
        "colab": {
          "base_uri": "https://localhost:8080/"
        },
        "id": "TxjUw1A6eRxQ",
        "outputId": "d14b3e35-8f32-4224-8608-42dd05db9535"
      },
      "outputs": [
        {
          "output_type": "stream",
          "name": "stdout",
          "text": [
            "ENETR THE MONTH NUMBER : 2\n",
            "ENTER THE YEAR :2004\n",
            "29 DAYS\n"
          ]
        }
      ],
      "source": [
        "a=int(input(\"ENETR THE MONTH NUMBER : \"))\n",
        "if a<=7:\n",
        "  if a%2!=0 and a!=2:\n",
        "    print(\"31 DAYS\")\n",
        "  elif a==2:\n",
        "    b=int(input(\"ENTER THE YEAR :\"))\n",
        "    if b%4==0:\n",
        "      print(\"29 DAYS\")\n",
        "    else:\n",
        "      print(\"28 DAYS\")\n",
        "  else:\n",
        "    print('30 DAYS')\n",
        "elif a>7 and a<=12:\n",
        "  if a%2==0:\n",
        "    print(\" 31 DAYS \")\n",
        "  else :\n",
        "    print(\"30 DAYS\")\n",
        "else:\n",
        "  print('INVALID INPUT')"
      ]
    }
  ]
}