{
  "nbformat": 4,
  "nbformat_minor": 0,
  "metadata": {
    "colab": {
      "name": "07122021.ipynb",
      "provenance": [],
      "authorship_tag": "ABX9TyOy2uxFTVV3hdBZenOmnnkZ",
      "include_colab_link": true
    },
    "kernelspec": {
      "name": "python3",
      "display_name": "Python 3"
    },
    "language_info": {
      "name": "python"
    }
  },
  "cells": [
    {
      "cell_type": "markdown",
      "metadata": {
        "id": "view-in-github",
        "colab_type": "text"
      },
      "source": [
        "<a href=\"https://colab.research.google.com/github/manoj-raghav/python/blob/main/07122021.ipynb\" target=\"_parent\"><img src=\"https://colab.research.google.com/assets/colab-badge.svg\" alt=\"Open In Colab\"/></a>"
      ]
    },
    {
      "cell_type": "code",
      "metadata": {
        "colab": {
          "base_uri": "https://localhost:8080/"
        },
        "id": "SzTPMXMK3xIe",
        "outputId": "6acbe81c-6fec-401e-b10b-2563ec8abc5d"
      },
      "source": [
        "list=['manoj','madam','sir','me']\n",
        "a=input(\"ENTER THE STRING TO FIND \")\n",
        "d=list.index(a)\n",
        "if list[d][0]==list[d][-1]:\n",
        "   print('THE FIRST AND LAST VALUE OF THE ENTERD STRING ARE SIMILAR')\n",
        "else:\n",
        "   print('THE FIRST AND LAST VALUE OF THE ENTERED STRING ARE NOT SIMILAR')\n"
      ],
      "execution_count": 58,
      "outputs": [
        {
          "output_type": "stream",
          "name": "stdout",
          "text": [
            "ENTER THE STRING TO FIND sir\n",
            "THE FIRST AND LAST VALUE OF THE ENTERED STRING ARE NOT SIMILAR\n"
          ]
        }
      ]
    }
  ]
}