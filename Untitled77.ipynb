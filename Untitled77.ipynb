{
  "nbformat": 4,
  "nbformat_minor": 0,
  "metadata": {
    "colab": {
      "name": "Untitled77.ipynb",
      "provenance": [],
      "authorship_tag": "ABX9TyOqyZsEuZof/k/kEhQAUvMU",
      "include_colab_link": true
    },
    "kernelspec": {
      "name": "python3",
      "display_name": "Python 3"
    },
    "language_info": {
      "name": "python"
    }
  },
  "cells": [
    {
      "cell_type": "markdown",
      "metadata": {
        "id": "view-in-github",
        "colab_type": "text"
      },
      "source": [
        "<a href=\"https://colab.research.google.com/github/manoj-raghav/python-for-Data-Science/blob/main/Untitled77.ipynb\" target=\"_parent\"><img src=\"https://colab.research.google.com/assets/colab-badge.svg\" alt=\"Open In Colab\"/></a>"
      ]
    },
    {
      "cell_type": "markdown",
      "source": [
        "Loop in dict"
      ],
      "metadata": {
        "id": "T9NT1nYrSJqW"
      }
    },
    {
      "cell_type": "code",
      "source": [
        "thisdict={\n",
        "    'brand':'Benz',\n",
        "    'colour':'Red',\n",
        "    'year':2003\n",
        "}\n",
        "#printing all keys\n",
        "for i in thisdict:\n",
        "  print(i)\n",
        "\n",
        "\"\"\"\n",
        "for i in thisdict.keys():\n",
        "  print(i)\n",
        "\"\"\""
      ],
      "metadata": {
        "colab": {
          "base_uri": "https://localhost:8080/",
          "height": 91
        },
        "id": "1IQdUxDySNDQ",
        "outputId": "8f624dc9-2953-4c54-d9b7-142fb4b2ac45"
      },
      "execution_count": 6,
      "outputs": [
        {
          "output_type": "stream",
          "name": "stdout",
          "text": [
            "brand\n",
            "colour\n",
            "year\n"
          ]
        },
        {
          "output_type": "execute_result",
          "data": {
            "application/vnd.google.colaboratory.intrinsic+json": {
              "type": "string"
            },
            "text/plain": [
              "'\\nfor i in thisdict.keys():\\n  print(i)\\n'"
            ]
          },
          "metadata": {},
          "execution_count": 6
        }
      ]
    },
    {
      "cell_type": "code",
      "source": [
        "thisdict={\n",
        "    'brand':'Benz',\n",
        "    'colour':'Red',\n",
        "    'year':2003\n",
        "}\n",
        "#printing all values\n",
        "for i in thisdict:\n",
        "  print(thisdict[i])\n",
        "\n",
        "\"\"\"\n",
        "for i in thisdict.values():\n",
        "  print(x)\n",
        "\"\"\""
      ],
      "metadata": {
        "colab": {
          "base_uri": "https://localhost:8080/"
        },
        "id": "5HnnH7LOShO_",
        "outputId": "535de455-63a9-459f-b473-adde84dc6e76"
      },
      "execution_count": 4,
      "outputs": [
        {
          "output_type": "stream",
          "name": "stdout",
          "text": [
            "Benz\n",
            "Red\n",
            "2003\n"
          ]
        }
      ]
    },
    {
      "cell_type": "code",
      "source": [
        "for i in thisdict.items():\n",
        "  print(i)"
      ],
      "metadata": {
        "colab": {
          "base_uri": "https://localhost:8080/"
        },
        "id": "uL5M2-FHSpm9",
        "outputId": "6b62df29-a3b2-4358-e00a-cb1e143b6581"
      },
      "execution_count": 7,
      "outputs": [
        {
          "output_type": "stream",
          "name": "stdout",
          "text": [
            "('brand', 'Benz')\n",
            "('colour', 'Red')\n",
            "('year', 2003)\n"
          ]
        }
      ]
    },
    {
      "cell_type": "code",
      "source": [
        "for i,j in thisdict.items():\n",
        "  print(i,j)"
      ],
      "metadata": {
        "colab": {
          "base_uri": "https://localhost:8080/"
        },
        "id": "ZdU3Bj4RTLpv",
        "outputId": "62f7d4e0-7af0-437c-f0fd-08ad810b99c7"
      },
      "execution_count": 11,
      "outputs": [
        {
          "output_type": "stream",
          "name": "stdout",
          "text": [
            "brand Benz\n",
            "colour Red\n",
            "year 2003\n"
          ]
        }
      ]
    },
    {
      "cell_type": "markdown",
      "source": [
        "Dict Copying"
      ],
      "metadata": {
        "id": "5ya2SuJRTnxG"
      }
    },
    {
      "cell_type": "code",
      "source": [
        "mydict=thisdict.copy()\n",
        "print(mydict)"
      ],
      "metadata": {
        "colab": {
          "base_uri": "https://localhost:8080/"
        },
        "id": "aHn7-IrlTWBX",
        "outputId": "56f10c25-7824-494d-ca7c-2a956bc7bdcb"
      },
      "execution_count": 12,
      "outputs": [
        {
          "output_type": "stream",
          "name": "stdout",
          "text": [
            "{'brand': 'Benz', 'colour': 'Red', 'year': 2003}\n"
          ]
        }
      ]
    },
    {
      "cell_type": "code",
      "source": [
        "#copying using dict()\n",
        "\n",
        "mydict=dict(thisdict)\n",
        "mydict"
      ],
      "metadata": {
        "colab": {
          "base_uri": "https://localhost:8080/"
        },
        "id": "XrP6kufvTaHr",
        "outputId": "2fc17614-e7a2-45dc-dc34-efc58f6d6711"
      },
      "execution_count": 13,
      "outputs": [
        {
          "output_type": "execute_result",
          "data": {
            "text/plain": [
              "{'brand': 'Benz', 'colour': 'Red', 'year': 2003}"
            ]
          },
          "metadata": {},
          "execution_count": 13
        }
      ]
    }
  ]
}