{
  "nbformat": 4,
  "nbformat_minor": 0,
  "metadata": {
    "colab": {
      "name": "Untitled58.ipynb",
      "provenance": [],
      "collapsed_sections": [],
      "include_colab_link": true
    },
    "kernelspec": {
      "name": "python3",
      "display_name": "Python 3"
    },
    "language_info": {
      "name": "python"
    }
  },
  "cells": [
    {
      "cell_type": "markdown",
      "metadata": {
        "id": "view-in-github",
        "colab_type": "text"
      },
      "source": [
        "<a href=\"https://colab.research.google.com/github/manoj-raghav/python/blob/main/Untitled58.ipynb\" target=\"_parent\"><img src=\"https://colab.research.google.com/assets/colab-badge.svg\" alt=\"Open In Colab\"/></a>"
      ]
    },
    {
      "cell_type": "code",
      "execution_count": 2,
      "metadata": {
        "id": "yIQCzBE-6CA2"
      },
      "outputs": [],
      "source": [
        "import numpy as np"
      ]
    },
    {
      "cell_type": "code",
      "source": [
        "#stacking along rows\n",
        "a1=np.array([[1,2,3],[4,5,6]])\n",
        "a2=np.array([[3,3,3],[5,6,7]])\n",
        "a=np.hstack((a1,a2))\n",
        "print(a)\n",
        "# 1: first row of first array and first row of second array\n",
        "# 2: second ro of first array and second row of second array"
      ],
      "metadata": {
        "id": "0dn9aew4DeXV",
        "outputId": "795ed114-7038-4983-f20f-84b0030bafc8",
        "colab": {
          "base_uri": "https://localhost:8080/"
        }
      },
      "execution_count": null,
      "outputs": [
        {
          "output_type": "stream",
          "name": "stdout",
          "text": [
            "[[1 2 3 3 3 3]\n",
            " [4 5 6 5 6 7]]\n"
          ]
        }
      ]
    },
    {
      "cell_type": "code",
      "source": [
        "#stcking along columns\n",
        "a=np.vstack((a1,a2))\n",
        "print(a)\n",
        "#each single row is printed separately"
      ],
      "metadata": {
        "id": "wFbCF3JCD6TE",
        "outputId": "cf8679a0-4024-492e-c213-fb92860c66c4",
        "colab": {
          "base_uri": "https://localhost:8080/"
        }
      },
      "execution_count": null,
      "outputs": [
        {
          "output_type": "stream",
          "name": "stdout",
          "text": [
            "[[1 2 3]\n",
            " [4 5 6]\n",
            " [3 3 3]\n",
            " [5 6 7]]\n"
          ]
        }
      ]
    },
    {
      "cell_type": "code",
      "source": [
        "a1=np.array([[1,2,3],[4,5,6]])\n",
        "a2=np.array([[3,3,3],[5,6,7]])\n",
        "a=np.vstack((a1,a1))\n",
        "print(a)"
      ],
      "metadata": {
        "colab": {
          "base_uri": "https://localhost:8080/"
        },
        "id": "cjNYqK7XHjiC",
        "outputId": "c3a0e33f-a83f-4d7a-ca73-1da68f2dd3bd"
      },
      "execution_count": 3,
      "outputs": [
        {
          "output_type": "stream",
          "name": "stdout",
          "text": [
            "[[1 2 3]\n",
            " [4 5 6]\n",
            " [1 2 3]\n",
            " [4 5 6]]\n"
          ]
        }
      ]
    },
    {
      "cell_type": "code",
      "source": [
        "#stacking along height(depth)\n",
        "a=np.dstack((a1,a2))\n",
        "print(a)\n",
        "#elements of the same position inntwo arrays has been printed in a single array"
      ],
      "metadata": {
        "id": "V5pOyuh-EmnU",
        "outputId": "a2f05a39-d3b4-41a8-da88-a692cbe159e0",
        "colab": {
          "base_uri": "https://localhost:8080/"
        }
      },
      "execution_count": 4,
      "outputs": [
        {
          "output_type": "stream",
          "name": "stdout",
          "text": [
            "[[[1 3]\n",
            "  [2 3]\n",
            "  [3 3]]\n",
            "\n",
            " [[4 5]\n",
            "  [5 6]\n",
            "  [6 7]]]\n"
          ]
        }
      ]
    },
    {
      "cell_type": "code",
      "source": [
        "a=np.dstack((a1,a1))\n",
        "print(a)"
      ],
      "metadata": {
        "colab": {
          "base_uri": "https://localhost:8080/"
        },
        "id": "wdrcSWSTH07A",
        "outputId": "1e6c746c-baaf-4c1c-85b9-056fde756178"
      },
      "execution_count": 5,
      "outputs": [
        {
          "output_type": "stream",
          "name": "stdout",
          "text": [
            "[[[1 1]\n",
            "  [2 2]\n",
            "  [3 3]]\n",
            "\n",
            " [[4 4]\n",
            "  [5 5]\n",
            "  [6 6]]]\n"
          ]
        }
      ]
    }
  ]
}