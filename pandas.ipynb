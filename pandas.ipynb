{
  "nbformat": 4,
  "nbformat_minor": 0,
  "metadata": {
    "colab": {
      "name": "pandas.ipynb",
      "provenance": [],
      "authorship_tag": "ABX9TyP2wgNUVmEk111wH2ZdtcEc",
      "include_colab_link": true
    },
    "kernelspec": {
      "name": "python3",
      "display_name": "Python 3"
    },
    "language_info": {
      "name": "python"
    }
  },
  "cells": [
    {
      "cell_type": "markdown",
      "metadata": {
        "id": "view-in-github",
        "colab_type": "text"
      },
      "source": [
        "<a href=\"https://colab.research.google.com/github/manoj-raghav/python/blob/main/pandas.ipynb\" target=\"_parent\"><img src=\"https://colab.research.google.com/assets/colab-badge.svg\" alt=\"Open In Colab\"/></a>"
      ]
    },
    {
      "cell_type": "code",
      "execution_count": 6,
      "metadata": {
        "colab": {
          "base_uri": "https://localhost:8080/"
        },
        "id": "zSBm4udJBJPJ",
        "outputId": "5b0dc3c6-fabe-423c-95dd-b1d0b4bf5944"
      },
      "outputs": [
        {
          "output_type": "stream",
          "name": "stdout",
          "text": [
            "      Name  Age\n",
            "0    MANOJ   18\n",
            "1    RAGAV   25\n",
            "2  KISHOOR   61\n"
          ]
        }
      ],
      "source": [
        "import pandas as manoj\n",
        "mydata={\n",
        "    \"Name\":[\"MANOJ\",\"RAGAV\",\"KISHOOR\"],\n",
        "    \"Age\":[18,25,61]\n",
        "}\n",
        "\n",
        "a=manoj.DataFrame(mydata)\n",
        "print(a)\n"
      ]
    }
  ]
}