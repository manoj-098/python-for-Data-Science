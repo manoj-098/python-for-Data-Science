{
  "nbformat": 4,
  "nbformat_minor": 0,
  "metadata": {
    "colab": {
      "name": "Untitled71.ipynb",
      "provenance": [],
      "authorship_tag": "ABX9TyMN969Us5pZm50pSD7eMSdi",
      "include_colab_link": true
    },
    "kernelspec": {
      "name": "python3",
      "display_name": "Python 3"
    },
    "language_info": {
      "name": "python"
    }
  },
  "cells": [
    {
      "cell_type": "markdown",
      "metadata": {
        "id": "view-in-github",
        "colab_type": "text"
      },
      "source": [
        "<a href=\"https://colab.research.google.com/github/manoj-raghav/python/blob/main/Untitled71.ipynb\" target=\"_parent\"><img src=\"https://colab.research.google.com/assets/colab-badge.svg\" alt=\"Open In Colab\"/></a>"
      ]
    },
    {
      "cell_type": "code",
      "execution_count": 1,
      "metadata": {
        "id": "w2LokYisoctf"
      },
      "outputs": [],
      "source": [
        "import numpy as np\n",
        "from numpy import random"
      ]
    },
    {
      "cell_type": "markdown",
      "source": [
        "RANDOM PERMUTATIONS OF ELEMENTS"
      ],
      "metadata": {
        "id": "FhZim4TTolBt"
      }
    },
    {
      "cell_type": "markdown",
      "source": [
        "***Shuffling Arrays"
      ],
      "metadata": {
        "id": "BPEHzH1SpH1z"
      }
    },
    {
      "cell_type": "code",
      "source": [
        "#shuffle()\n",
        "\n",
        "x=np.array([1,2,3,4,5])\n",
        "random.shuffle(x)\n",
        "x\n",
        "\n",
        "\n",
        "\n",
        "#the shuffle() shuffles the original array"
      ],
      "metadata": {
        "colab": {
          "base_uri": "https://localhost:8080/"
        },
        "id": "aIYBNpuWoo2b",
        "outputId": "1b84074d-e774-4f7a-a1cd-c1c1232ef50a"
      },
      "execution_count": 32,
      "outputs": [
        {
          "output_type": "execute_result",
          "data": {
            "text/plain": [
              "array([1, 5, 3, 4, 2])"
            ]
          },
          "metadata": {},
          "execution_count": 32
        }
      ]
    },
    {
      "cell_type": "code",
      "source": [
        "x=random.shuffle([1,2,3,4,5])\n",
        "print(x)\n",
        "\n",
        "#cannot be executed in this way\n"
      ],
      "metadata": {
        "colab": {
          "base_uri": "https://localhost:8080/"
        },
        "id": "xn3ZDY-2pFzu",
        "outputId": "eafc1aa1-4149-455d-c8e3-28a1f2a76456"
      },
      "execution_count": 12,
      "outputs": [
        {
          "output_type": "stream",
          "name": "stdout",
          "text": [
            "None\n"
          ]
        }
      ]
    },
    {
      "cell_type": "code",
      "source": [
        "x=random.shuffle(np.array([1,2,3,4,5]))\n",
        "print(x)\n",
        "\n",
        "#cannot be executed in this way"
      ],
      "metadata": {
        "colab": {
          "base_uri": "https://localhost:8080/"
        },
        "id": "2eB5chA0pkhV",
        "outputId": "c722a5dd-838e-413b-af06-b1f612d3c7b7"
      },
      "execution_count": 13,
      "outputs": [
        {
          "output_type": "stream",
          "name": "stdout",
          "text": [
            "None\n"
          ]
        }
      ]
    },
    {
      "cell_type": "code",
      "source": [
        "x=np.array([1,200,100,10,6])\n",
        "print(random.permutation(x))\n",
        "\n",
        "#permutation() method returns the rearranged array and leaves the original array unchanged"
      ],
      "metadata": {
        "colab": {
          "base_uri": "https://localhost:8080/"
        },
        "id": "HI7iT7cZp1ei",
        "outputId": "446a92eb-ab0d-47e4-dcfe-1f3974e6812e"
      },
      "execution_count": 29,
      "outputs": [
        {
          "output_type": "stream",
          "name": "stdout",
          "text": [
            "[  6 100  10   1 200]\n"
          ]
        },
        {
          "output_type": "execute_result",
          "data": {
            "text/plain": [
              "array([  1, 200, 100,  10,   6])"
            ]
          },
          "metadata": {},
          "execution_count": 29
        }
      ]
    },
    {
      "cell_type": "markdown",
      "source": [
        "DIFFERNCE:Shuffle() and permutation()"
      ],
      "metadata": {
        "id": "lznNLnxQqx1A"
      }
    },
    {
      "cell_type": "code",
      "source": [
        "#shuffle() makes changes to the original array andconsider the rearranged array as original array\n",
        "#but permutation() , only returns the rearranged array and doesnt make change to the original array\n",
        "\n",
        "#shuffle()\n",
        "\n",
        "x=np.array([1,2,3,4,5])\n",
        "random.shuffle(x)\n",
        "print(x)\n",
        "print('\\n\\n----------------------------')\n",
        "print(x)\n",
        "\n",
        "#the rearrange darray is considered as the original array "
      ],
      "metadata": {
        "colab": {
          "base_uri": "https://localhost:8080/"
        },
        "id": "vB6if-nGq30P",
        "outputId": "af06ebd6-0716-420b-b48f-342eb2d90689"
      },
      "execution_count": 35,
      "outputs": [
        {
          "output_type": "stream",
          "name": "stdout",
          "text": [
            "[2 1 4 3 5]\n",
            "\n",
            "\n",
            "----------------------------\n",
            "[2 1 4 3 5]\n"
          ]
        }
      ]
    },
    {
      "cell_type": "code",
      "source": [
        "#permutation()\n",
        "\n",
        "x=np.array([1,200,100,10,6])\n",
        "print(random.permutation(x))\n",
        "print('\\n\\n------------------------------')\n",
        "print(x)\n",
        "\n",
        "#the original array i.e X is unchanged even after rearranging"
      ],
      "metadata": {
        "colab": {
          "base_uri": "https://localhost:8080/"
        },
        "id": "KOMlPZ_trvaK",
        "outputId": "bd596087-796b-4843-a5d6-a22096c7eded"
      },
      "execution_count": 36,
      "outputs": [
        {
          "output_type": "stream",
          "name": "stdout",
          "text": [
            "[  1   6  10 200 100]\n",
            "\n",
            "\n",
            "------------------------------\n",
            "[  1 200 100  10   6]\n"
          ]
        }
      ]
    }
  ]
}