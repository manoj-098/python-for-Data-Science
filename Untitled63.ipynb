{
  "nbformat": 4,
  "nbformat_minor": 0,
  "metadata": {
    "colab": {
      "name": "Untitled63.ipynb",
      "provenance": [],
      "include_colab_link": true
    },
    "kernelspec": {
      "name": "python3",
      "display_name": "Python 3"
    },
    "language_info": {
      "name": "python"
    }
  },
  "cells": [
    {
      "cell_type": "markdown",
      "metadata": {
        "id": "view-in-github",
        "colab_type": "text"
      },
      "source": [
        "<a href=\"https://colab.research.google.com/github/manoj-raghav/python/blob/main/Untitled63.ipynb\" target=\"_parent\"><img src=\"https://colab.research.google.com/assets/colab-badge.svg\" alt=\"Open In Colab\"/></a>"
      ]
    },
    {
      "cell_type": "markdown",
      "source": [
        "ARRAY SORTING"
      ],
      "metadata": {
        "id": "bx0P2bRQ7kC0"
      }
    },
    {
      "cell_type": "code",
      "source": [
        "import numpy as np"
      ],
      "metadata": {
        "id": "os8VpfL47qjS"
      },
      "execution_count": null,
      "outputs": []
    },
    {
      "cell_type": "code",
      "source": [
        "a=np.array([4,2,5,1,3,6,8,7,9,0])\n",
        "x=np.sort(a)\n",
        "print(x)\n"
      ],
      "metadata": {
        "colab": {
          "base_uri": "https://localhost:8080/"
        },
        "id": "lsMEdiqZ7w5B",
        "outputId": "72a19314-8196-4fde-d566-5a826942d272"
      },
      "execution_count": null,
      "outputs": [
        {
          "output_type": "stream",
          "name": "stdout",
          "text": [
            "[0 1 2 3 4 5 6 7 8 9]\n"
          ]
        }
      ]
    },
    {
      "cell_type": "code",
      "source": [
        "#for reversing \n",
        "c=x[::-1]\n",
        "print(c)"
      ],
      "metadata": {
        "id": "aKMqT4T5_AGO",
        "outputId": "46d4681a-5c4b-4043-b228-8723e01057cd",
        "colab": {
          "base_uri": "https://localhost:8080/"
        }
      },
      "execution_count": null,
      "outputs": [
        {
          "output_type": "stream",
          "name": "stdout",
          "text": [
            "[9 8 7 6 5 4 3 2 1 0]\n"
          ]
        }
      ]
    },
    {
      "cell_type": "code",
      "source": [
        "#for sorting 2D arrays it is not working\n",
        "a=np.array([[4,2,3,1,1],[7,9,6,5,8]])\n",
        "x=np.sort(a)\n",
        "print(x)"
      ],
      "metadata": {
        "colab": {
          "base_uri": "https://localhost:8080/"
        },
        "id": "tuV4tOv68LHH",
        "outputId": "c91541a5-cea3-4f89-9d28-8f2e941ca051"
      },
      "execution_count": null,
      "outputs": [
        {
          "output_type": "stream",
          "name": "stdout",
          "text": [
            "[[1 1 2 3 4]\n",
            " [5 6 7 8 9]]\n"
          ]
        }
      ]
    },
    {
      "cell_type": "code",
      "source": [
        "#for sorting 2D arrays by index \n",
        "a=np.array([[4,2,3,1],[7,6,5,8]])\n",
        "x1=np.sort(a[0])\n",
        "x2=np.sort(a[1])\n",
        "\n",
        "print(x1)\n",
        "print(x2)\n",
        "#print(x1+x2)"
      ],
      "metadata": {
        "id": "M27ZS_PbAMqy",
        "outputId": "6705d78e-b159-4cf3-d517-2da150693e56",
        "colab": {
          "base_uri": "https://localhost:8080/"
        }
      },
      "execution_count": null,
      "outputs": [
        {
          "output_type": "stream",
          "name": "stdout",
          "text": [
            "[1 2 3 4]\n",
            "[5 6 7 8]\n"
          ]
        }
      ]
    },
    {
      "cell_type": "code",
      "source": [
        "#for doing many indexes\n",
        "x=np.sort([a[0],a[1]])\n",
        "x\n",
        "\n"
      ],
      "metadata": {
        "id": "WM1-f48LBO_5",
        "outputId": "e1b1ef7a-fc34-4c66-8f69-0e9e058d2c4f",
        "colab": {
          "base_uri": "https://localhost:8080/"
        }
      },
      "execution_count": null,
      "outputs": [
        {
          "output_type": "execute_result",
          "data": {
            "text/plain": [
              "array([[1, 2, 3, 4],\n",
              "       [5, 6, 7, 8]])"
            ]
          },
          "metadata": {},
          "execution_count": 36
        }
      ]
    },
    {
      "cell_type": "code",
      "source": [
        "a=np.array([[3,1,2],[6,4,5],[9,7,8]])\n",
        "x=np.sort([a[0],a[2]])\n",
        "x"
      ],
      "metadata": {
        "id": "4Rk72l5_CCSS",
        "outputId": "65180815-2483-4c2a-8253-07fa88dc2b0e",
        "colab": {
          "base_uri": "https://localhost:8080/"
        }
      },
      "execution_count": null,
      "outputs": [
        {
          "output_type": "execute_result",
          "data": {
            "text/plain": [
              "array([[1, 2, 3],\n",
              "       [7, 8, 9]])"
            ]
          },
          "metadata": {},
          "execution_count": 105
        }
      ]
    }
  ]
}