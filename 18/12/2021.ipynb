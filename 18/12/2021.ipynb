{
  "nbformat": 4,
  "nbformat_minor": 0,
  "metadata": {
    "colab": {
      "name": "Untitled32.ipynb",
      "provenance": [],
      "authorship_tag": "ABX9TyP6V02/RijAzN/RmABpdNoe",
      "include_colab_link": true
    },
    "kernelspec": {
      "name": "python3",
      "display_name": "Python 3"
    },
    "language_info": {
      "name": "python"
    }
  },
  "cells": [
    {
      "cell_type": "markdown",
      "metadata": {
        "id": "view-in-github",
        "colab_type": "text"
      },
      "source": [
        "<a href=\"https://colab.research.google.com/github/manoj-raghav/python/blob/main/18/12/2021.ipynb\" target=\"_parent\"><img src=\"https://colab.research.google.com/assets/colab-badge.svg\" alt=\"Open In Colab\"/></a>"
      ]
    },
    {
      "cell_type": "code",
      "execution_count": 2,
      "metadata": {
        "colab": {
          "base_uri": "https://localhost:8080/"
        },
        "id": "Y3FdZzPtVl33",
        "outputId": "ef2922d1-4d08-4eb9-d26a-7d8d59bbbd32"
      },
      "outputs": [
        {
          "output_type": "stream",
          "name": "stdout",
          "text": [
            "ENTER A: 10\n",
            "ENTER B: 2000\n",
            "AFTER SWAPPING: A: 2000.0 \n",
            "B:  10.0\n"
          ]
        }
      ],
      "source": [
        "a=float(input('ENTER A: '))\n",
        "b=float(input('ENTER B: '))\n",
        "a,b=b,a\n",
        "print('AFTER SWAPPING: A:',a,'\\nB: ',b)\n",
        "20"
      ]
    },
    {
      "cell_type": "code",
      "source": [
        "a=int(input('ENTER A VALUE:'))\n",
        "b=int(input('ENTER B VALUE: '))\n",
        "temp=a\n",
        "a=b\n",
        "b=temp\n",
        "print('AFTER SWAPPING :\\n A: ',a,'B: ',b)"
      ],
      "metadata": {
        "colab": {
          "base_uri": "https://localhost:8080/"
        },
        "id": "vSQq5vNOWo-N",
        "outputId": "e77f2f17-170e-4998-8c07-9716fbc17133"
      },
      "execution_count": 6,
      "outputs": [
        {
          "output_type": "stream",
          "name": "stdout",
          "text": [
            "ENTER A VALUE:10\n",
            "ENTER B VALUE: 20\n",
            "AFTER SWAPPING :\n",
            " A:  20 B:  10\n"
          ]
        }
      ]
    }
  ]
}