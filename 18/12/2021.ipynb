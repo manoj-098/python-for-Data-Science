{
  "nbformat": 4,
  "nbformat_minor": 0,
  "metadata": {
    "colab": {
      "name": "Untitled31.ipynb",
      "provenance": [],
      "authorship_tag": "ABX9TyNKgfO0VX7dNZvbHVkr3sOc",
      "include_colab_link": true
    },
    "kernelspec": {
      "name": "python3",
      "display_name": "Python 3"
    },
    "language_info": {
      "name": "python"
    }
  },
  "cells": [
    {
      "cell_type": "markdown",
      "metadata": {
        "id": "view-in-github",
        "colab_type": "text"
      },
      "source": [
        "<a href=\"https://colab.research.google.com/github/manoj-raghav/python/blob/main/18/12/2021.ipynb\" target=\"_parent\"><img src=\"https://colab.research.google.com/assets/colab-badge.svg\" alt=\"Open In Colab\"/></a>"
      ]
    },
    {
      "cell_type": "code",
      "execution_count": 9,
      "metadata": {
        "colab": {
          "base_uri": "https://localhost:8080/"
        },
        "id": "N6WPMzvJTQbZ",
        "outputId": "def71e91-6589-4f58-8461-47efb633ad89"
      },
      "outputs": [
        {
          "output_type": "stream",
          "name": "stdout",
          "text": [
            "ENTETR NUMBER 1: 10\n",
            "ENTER NUMBER 2: 20\n",
            "ENTER THE OPERATION U WANT TO DO: +\n",
            "20.0\n"
          ]
        }
      ],
      "source": [
        "a=float(input(\"ENTETR NUMBER 1: \"))\n",
        "c=float(input(\"ENTER NUMBER 2: \"))\n",
        "b=input(\"ENTER THE OPERATION U WANT TO DO: \")\n",
        "if b=='+':\n",
        "  print(a+c)\n",
        "elif b=='-':\n",
        "  print(a-c)\n",
        "elif b=='*':\n",
        "  print(a*c)\n",
        "elif b=='/':\n",
        "  print(a/c20)\n",
        "else :\n",
        "  print('invalid operator entered20')"
      ]
    }
  ]
}