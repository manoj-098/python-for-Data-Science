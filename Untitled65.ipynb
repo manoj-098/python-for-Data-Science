{
  "nbformat": 4,
  "nbformat_minor": 0,
  "metadata": {
    "colab": {
      "name": "Untitled64.ipynb",
      "provenance": [],
      "include_colab_link": true
    },
    "kernelspec": {
      "name": "python3",
      "display_name": "Python 3"
    },
    "language_info": {
      "name": "python"
    }
  },
  "cells": [
    {
      "cell_type": "markdown",
      "metadata": {
        "id": "view-in-github",
        "colab_type": "text"
      },
      "source": [
        "<a href=\"https://colab.research.google.com/github/manoj-raghav/python/blob/main/Untitled65.ipynb\" target=\"_parent\"><img src=\"https://colab.research.google.com/assets/colab-badge.svg\" alt=\"Open In Colab\"/></a>"
      ]
    },
    {
      "cell_type": "markdown",
      "source": [
        "FILTERING ARRAY"
      ],
      "metadata": {
        "id": "H1P82acXM2bJ"
      }
    },
    {
      "cell_type": "code",
      "source": [
        "import numpy as np"
      ],
      "metadata": {
        "id": "kbBuJoIOM4h0"
      },
      "execution_count": 1,
      "outputs": []
    },
    {
      "cell_type": "code",
      "source": [
        "a=np.array([23,45,68,12])\n",
        "x=[True,False,True,True]\n",
        "new=a[x]\n",
        "print(new)"
      ],
      "metadata": {
        "colab": {
          "base_uri": "https://localhost:8080/"
        },
        "id": "MWOCo6T8M8L7",
        "outputId": "74c4da17-7629-46e3-8627-a58e7624fc55"
      },
      "execution_count": 2,
      "outputs": [
        {
          "output_type": "stream",
          "name": "stdout",
          "text": [
            "[23 68 12]\n"
          ]
        }
      ]
    },
    {
      "cell_type": "code",
      "source": [
        "a=np.array([23,45,68,12])\n",
        "\n",
        "filter=[]\n",
        "#empty array\n",
        "\n",
        "#go through every element in a\n",
        "for i in a:\n",
        "  #if the element is greater than 40 set the value as True else False\n",
        "  if i>40:\n",
        "    filter.append(True)\n",
        "  else:\n",
        "    filter.append(False)\n",
        "  \n",
        "new=a[filter]\n",
        "\n",
        "print(filter)\n",
        "print(new)"
      ],
      "metadata": {
        "colab": {
          "base_uri": "https://localhost:8080/"
        },
        "id": "62iqQPsjWmOY",
        "outputId": "c5e671e7-392e-402f-f9ff-f4d10c37bae0"
      },
      "execution_count": 5,
      "outputs": [
        {
          "output_type": "stream",
          "name": "stdout",
          "text": [
            "[False, True, True, False]\n",
            "[45 68]\n"
          ]
        }
      ]
    },
    {
      "cell_type": "code",
      "source": [
        "a=np.array([23,45,68,12])\n",
        "\n",
        "filter=[]\n",
        "#empty array\n",
        "\n",
        "#go through every element in a\n",
        "for i in a:\n",
        "  #if the element is greater than 40 set the value as True else False\n",
        "  if i>40:\n",
        "    filter.append(True)\n",
        " \"\"\" else:\n",
        "    filter.append(False)\"\"\"\n",
        "  \n",
        "new=a[filter]\n",
        "\n",
        "print(filter)\n",
        "print(new)\n",
        "\"\"\"it shows errror because we have given 4 elements but the condition is being satisfied only by 2 element an dthe remaining 2 doesnt find a place to assign.So we are giving condition for that to as \n",
        "False"
      ],
      "metadata": {
        "id": "KZ9z-a4sYhc1",
        "outputId": "53f9f164-a918-4b33-d47d-5f48358861f4",
        "colab": {
          "base_uri": "https://localhost:8080/",
          "height": 131
        }
      },
      "execution_count": 9,
      "outputs": [
        {
          "output_type": "error",
          "ename": "IndentationError",
          "evalue": "ignored",
          "traceback": [
            "\u001b[0;36m  File \u001b[0;32m\"<ipython-input-9-54672096e566>\"\u001b[0;36m, line \u001b[0;32m11\u001b[0m\n\u001b[0;31m    \"\"\" else:\u001b[0m\n\u001b[0m             ^\u001b[0m\n\u001b[0;31mIndentationError\u001b[0m\u001b[0;31m:\u001b[0m unindent does not match any outer indentation level\n"
          ]
        }
      ]
    },
    {
      "cell_type": "code",
      "source": [
        "a=np.array([23,45,68,12])\n",
        "\n",
        "filter=[]\n",
        "#empty array\n",
        "\n",
        "#go through every element in a\n",
        "for i in a:\n",
        "  #if the element is greater than 40 set the value as True else False\n",
        "  if i>40:\n",
        "    filter.append()\n",
        "  else:\n",
        "    filter.append()\n",
        "  \n",
        "print(filter)#showing the state of condition i.e what are the indexes satisfies are true or false\n",
        "\n",
        "\n",
        "\n",
        "new=a[filter]#storing the values which Are True\n",
        "print(new)\n",
        "\"\"\"if we didnt give True or False within the append() the value which satisfies the condition doesnt know where to store .So error\n"
      ],
      "metadata": {
        "id": "tvY5DqB7Y-Vs",
        "outputId": "70d094fd-1800-4f66-dfeb-d00a26aadf20",
        "colab": {
          "base_uri": "https://localhost:8080/",
          "height": 131
        }
      },
      "execution_count": 10,
      "outputs": [
        {
          "output_type": "error",
          "ename": "SyntaxError",
          "evalue": "ignored",
          "traceback": [
            "\u001b[0;36m  File \u001b[0;32m\"<ipython-input-10-0ede52658610>\"\u001b[0;36m, line \u001b[0;32m20\u001b[0m\n\u001b[0;31m    \"\"\"if we didnt give True or False within the append() the value which satisfies the condition doesnt know where to store .So error\u001b[0m\n\u001b[0m                                                                                                                                      ^\u001b[0m\n\u001b[0;31mSyntaxError\u001b[0m\u001b[0;31m:\u001b[0m EOF while scanning triple-quoted string literal\n"
          ]
        }
      ]
    },
    {
      "cell_type": "code",
      "source": [
        "#filtering to return only even numbers from an array\n",
        "a=np.array([1,2,3,4,5,6,7,8,9,0])\n",
        "array=[]\n",
        "for i in a:\n",
        "  if i%2==0:\n",
        "    array.append(True)\n",
        "  else:\n",
        "    array.append(False)\n",
        "\n",
        "new=a[array]\n",
        "print(new)"
      ],
      "metadata": {
        "id": "LzResRkLa_Ql",
        "outputId": "321db8ca-c9b6-49d9-d27b-e4c11fb83ed0",
        "colab": {
          "base_uri": "https://localhost:8080/"
        }
      },
      "execution_count": 11,
      "outputs": [
        {
          "output_type": "stream",
          "name": "stdout",
          "text": [
            "[2 4 6 8 0]\n"
          ]
        }
      ]
    }
  ]
}