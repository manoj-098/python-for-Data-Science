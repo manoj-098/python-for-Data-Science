{
  "nbformat": 4,
  "nbformat_minor": 0,
  "metadata": {
    "colab": {
      "name": "6122021-1.ipynb",
      "provenance": [],
      "authorship_tag": "ABX9TyPStK4ED1ljZXxbqYCR3BC1",
      "include_colab_link": true
    },
    "kernelspec": {
      "name": "python3",
      "display_name": "Python 3"
    },
    "language_info": {
      "name": "python"
    }
  },
  "cells": [
    {
      "cell_type": "markdown",
      "metadata": {
        "id": "view-in-github",
        "colab_type": "text"
      },
      "source": [
        "<a href=\"https://colab.research.google.com/github/manoj-raghav/python/blob/main/6122021_1.ipynb\" target=\"_parent\"><img src=\"https://colab.research.google.com/assets/colab-badge.svg\" alt=\"Open In Colab\"/></a>"
      ]
    },
    {
      "cell_type": "code",
      "metadata": {
        "colab": {
          "base_uri": "https://localhost:8080/"
        },
        "id": "V6HGPDXp4vcc",
        "outputId": "ebf65cfd-e2f9-419b-f74e-140e64d68983"
      },
      "source": [
        "a=int(input('Enter the number: '))\n",
        "if a==0:\n",
        "  print('The entered number is zero')\n",
        "elif a>=0:\n",
        "  print('The entered number is a positve number')\n",
        "else:\n",
        "  print('The entered number is a negative number')"
      ],
      "execution_count": 1,
      "outputs": [
        {
          "output_type": "stream",
          "name": "stdout",
          "text": [
            "Enter the number: 12\n",
            "The entered number is a positve number\n"
          ]
        }
      ]
    }
  ]
}