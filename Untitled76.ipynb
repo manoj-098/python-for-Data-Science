{
  "nbformat": 4,
  "nbformat_minor": 0,
  "metadata": {
    "colab": {
      "name": "Untitled76.ipynb",
      "provenance": [],
      "authorship_tag": "ABX9TyMYUkKO1OxOeHlfHvoknJpf",
      "include_colab_link": true
    },
    "kernelspec": {
      "name": "python3",
      "display_name": "Python 3"
    },
    "language_info": {
      "name": "python"
    }
  },
  "cells": [
    {
      "cell_type": "markdown",
      "metadata": {
        "id": "view-in-github",
        "colab_type": "text"
      },
      "source": [
        "<a href=\"https://colab.research.google.com/github/manoj-raghav/python-for-Data-Science/blob/main/Untitled76.ipynb\" target=\"_parent\"><img src=\"https://colab.research.google.com/assets/colab-badge.svg\" alt=\"Open In Colab\"/></a>"
      ]
    },
    {
      "cell_type": "markdown",
      "source": [
        "Update dicctionary"
      ],
      "metadata": {
        "id": "iodXvJ3FOF9E"
      }
    },
    {
      "cell_type": "code",
      "source": [
        "thisdict={\n",
        "    'brand':'Benz',\n",
        "    'colour':'Red',\n",
        "    'year':2003\n",
        "}\n",
        "thisdict['year']=2020\n",
        "thisdict"
      ],
      "metadata": {
        "colab": {
          "base_uri": "https://localhost:8080/"
        },
        "id": "OqE7xsq7OqGz",
        "outputId": "cad8527c-193e-4aa9-99b0-bae43381dab6"
      },
      "execution_count": 5,
      "outputs": [
        {
          "output_type": "execute_result",
          "data": {
            "text/plain": [
              "{'brand': 'Benz', 'colour': 'Red', 'year': 2020}"
            ]
          },
          "metadata": {},
          "execution_count": 5
        }
      ]
    },
    {
      "cell_type": "code",
      "source": [
        "thisdict={\n",
        "    'brand':'Benz',\n",
        "    'colour':'Red',\n",
        "    'year':2003\n",
        "}\n",
        "thisdict.update({'year':2020})\n",
        "\n",
        "thisdict"
      ],
      "metadata": {
        "colab": {
          "base_uri": "https://localhost:8080/"
        },
        "id": "bK0dCNbOO0uG",
        "outputId": "97bdb609-3cb5-4cb4-ab06-c831ecf3c88a"
      },
      "execution_count": 6,
      "outputs": [
        {
          "output_type": "execute_result",
          "data": {
            "text/plain": [
              "{'brand': 'Benz', 'colour': 'Red', 'year': 2020}"
            ]
          },
          "metadata": {},
          "execution_count": 6
        }
      ]
    },
    {
      "cell_type": "code",
      "source": [
        "thisdict={\n",
        "    'brand':'Benz',\n",
        "    'colour':'Red',\n",
        "    'year':2003,\n",
        "    'year':2020\n",
        "}\n",
        "thisdict\n",
        "\n",
        "#element with similar key names will be replaced "
      ],
      "metadata": {
        "colab": {
          "base_uri": "https://localhost:8080/"
        },
        "id": "XXb-QfAgOaFI",
        "outputId": "55295b9a-64da-4efa-d886-b84d013b7e90"
      },
      "execution_count": 4,
      "outputs": [
        {
          "output_type": "execute_result",
          "data": {
            "text/plain": [
              "{'brand': 'Benz', 'colour': 'Red', 'year': 2020}"
            ]
          },
          "metadata": {},
          "execution_count": 4
        }
      ]
    },
    {
      "cell_type": "markdown",
      "source": [
        "Adding items"
      ],
      "metadata": {
        "id": "M16Y3nzPO7DZ"
      }
    },
    {
      "cell_type": "code",
      "source": [
        "thisdict['model']='SAK3'\n",
        "thisdict"
      ],
      "metadata": {
        "colab": {
          "base_uri": "https://localhost:8080/"
        },
        "id": "Kofmuf2NOmnE",
        "outputId": "3c8159dc-5f45-45f7-e5e7-a981036bc2ce"
      },
      "execution_count": 7,
      "outputs": [
        {
          "output_type": "execute_result",
          "data": {
            "text/plain": [
              "{'brand': 'Benz', 'colour': 'Red', 'model': 'SAK3', 'year': 2020}"
            ]
          },
          "metadata": {},
          "execution_count": 7
        }
      ]
    },
    {
      "cell_type": "code",
      "source": [
        "#we can also update using update()\n",
        "thisdict={\n",
        "    'brand':'Benz',\n",
        "    'colour':'Red',\n",
        "    'year':2003\n",
        "}\n",
        "thisdict.update({'model':'Q3'})\n",
        "\n",
        "thisdict"
      ],
      "metadata": {
        "colab": {
          "base_uri": "https://localhost:8080/"
        },
        "id": "FGOHSBrQPH2g",
        "outputId": "48165159-ee2c-4d2d-bc4b-1f7e89dad77b"
      },
      "execution_count": 9,
      "outputs": [
        {
          "output_type": "execute_result",
          "data": {
            "text/plain": [
              "{'brand': 'Benz', 'colour': 'Red', 'model': 'Q3', 'year': 2003}"
            ]
          },
          "metadata": {},
          "execution_count": 9
        }
      ]
    },
    {
      "cell_type": "markdown",
      "source": [
        "Poping dict"
      ],
      "metadata": {
        "id": "yQjs_tAwPzgO"
      }
    },
    {
      "cell_type": "code",
      "source": [
        "thisdict={\n",
        "    'brand':'Benz',\n",
        "    'colour':'Red',\n",
        "    'year':2003\n",
        "}\n",
        "thisdict.pop('year')\n",
        "thisdict"
      ],
      "metadata": {
        "colab": {
          "base_uri": "https://localhost:8080/"
        },
        "id": "iRFkRgwNPbLR",
        "outputId": "f41f873e-4330-437b-8257-480c2166195c"
      },
      "execution_count": 10,
      "outputs": [
        {
          "output_type": "execute_result",
          "data": {
            "text/plain": [
              "{'brand': 'Benz', 'colour': 'Red'}"
            ]
          },
          "metadata": {},
          "execution_count": 10
        }
      ]
    },
    {
      "cell_type": "code",
      "source": [
        "thisdict={\n",
        "    'brand':'Benz',\n",
        "    'colour':'Red',\n",
        "    'year':2003\n",
        "}\n",
        "thisdict.popitem()\n",
        "thisdict\n",
        "\n",
        "#the popitem() and pop() will pop the last element by default"
      ],
      "metadata": {
        "colab": {
          "base_uri": "https://localhost:8080/"
        },
        "id": "7dJURpBPQIi3",
        "outputId": "1a897f61-b5cd-4c18-b77c-3ec2bf70d529"
      },
      "execution_count": 13,
      "outputs": [
        {
          "output_type": "execute_result",
          "data": {
            "text/plain": [
              "{'brand': 'Benz', 'colour': 'Red'}"
            ]
          },
          "metadata": {},
          "execution_count": 13
        }
      ]
    },
    {
      "cell_type": "code",
      "source": [
        "thisdict={\n",
        "    'brand':'Benz',\n",
        "    'colour':'Red',\n",
        "    'year':2003\n",
        "}\n",
        "x=thisdict.pop('year')\n",
        "print(x)"
      ],
      "metadata": {
        "colab": {
          "base_uri": "https://localhost:8080/"
        },
        "id": "vFzPdaQdP2e8",
        "outputId": "def2576e-924e-416f-e0bb-bf974e2a69bf"
      },
      "execution_count": 11,
      "outputs": [
        {
          "output_type": "stream",
          "name": "stdout",
          "text": [
            "2003\n"
          ]
        }
      ]
    },
    {
      "cell_type": "markdown",
      "source": [
        "Deleting dict"
      ],
      "metadata": {
        "id": "0iMx1QJqQzjk"
      }
    },
    {
      "cell_type": "code",
      "source": [
        "thisdict={\n",
        "    'brand':'Benz',\n",
        "    'colour':'Red',\n",
        "    'year':2003\n",
        "}\n",
        "del thisdict['year']\n",
        "thisdict"
      ],
      "metadata": {
        "colab": {
          "base_uri": "https://localhost:8080/"
        },
        "id": "QaCnJeJZQysh",
        "outputId": "50ea3f2e-0d06-47cb-c105-06cda18b231f"
      },
      "execution_count": 23,
      "outputs": [
        {
          "output_type": "execute_result",
          "data": {
            "text/plain": [
              "{'brand': 'Benz', 'colour': 'Red'}"
            ]
          },
          "metadata": {},
          "execution_count": 23
        }
      ]
    },
    {
      "cell_type": "code",
      "source": [
        " del thisdict"
      ],
      "metadata": {
        "id": "zyjCteUMRHyQ"
      },
      "execution_count": 21,
      "outputs": []
    },
    {
      "cell_type": "code",
      "source": [
        "thisdict"
      ],
      "metadata": {
        "colab": {
          "base_uri": "https://localhost:8080/",
          "height": 172
        },
        "id": "zzRjz-NTRQu-",
        "outputId": "836134d9-f2f0-4c17-c38b-0e8aba6ecd38"
      },
      "execution_count": 22,
      "outputs": [
        {
          "output_type": "error",
          "ename": "NameError",
          "evalue": "ignored",
          "traceback": [
            "\u001b[0;31m---------------------------------------------------------------------------\u001b[0m",
            "\u001b[0;31mNameError\u001b[0m                                 Traceback (most recent call last)",
            "\u001b[0;32m<ipython-input-22-354bde59e920>\u001b[0m in \u001b[0;36m<module>\u001b[0;34m()\u001b[0m\n\u001b[0;32m----> 1\u001b[0;31m \u001b[0mthisdict\u001b[0m\u001b[0;34m\u001b[0m\u001b[0;34m\u001b[0m\u001b[0m\n\u001b[0m",
            "\u001b[0;31mNameError\u001b[0m: name 'thisdict' is not defined"
          ]
        }
      ]
    },
    {
      "cell_type": "markdown",
      "source": [
        "Clearing dict"
      ],
      "metadata": {
        "id": "-L4m_0CARVRJ"
      }
    },
    {
      "cell_type": "code",
      "source": [
        "thisdict.clear()\n",
        "print(thisdict)"
      ],
      "metadata": {
        "colab": {
          "base_uri": "https://localhost:8080/"
        },
        "id": "HXBJ4VkiRTXr",
        "outputId": "dce07e46-d214-407d-fa2d-a036d2d35a87"
      },
      "execution_count": 24,
      "outputs": [
        {
          "output_type": "stream",
          "name": "stdout",
          "text": [
            "{}\n"
          ]
        }
      ]
    }
  ]
}