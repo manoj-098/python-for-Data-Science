{
  "nbformat": 4,
  "nbformat_minor": 0,
  "metadata": {
    "colab": {
      "name": "Untitled50.ipynb",
      "provenance": [],
      "authorship_tag": "ABX9TyOR5Dzzir2ImyVpJAHsCKIw",
      "include_colab_link": true
    },
    "kernelspec": {
      "name": "python3",
      "display_name": "Python 3"
    },
    "language_info": {
      "name": "python"
    }
  },
  "cells": [
    {
      "cell_type": "markdown",
      "metadata": {
        "id": "view-in-github",
        "colab_type": "text"
      },
      "source": [
        "<a href=\"https://colab.research.google.com/github/manoj-raghav/python/blob/main/Untitled50.ipynb\" target=\"_parent\"><img src=\"https://colab.research.google.com/assets/colab-badge.svg\" alt=\"Open In Colab\"/></a>"
      ]
    },
    {
      "cell_type": "code",
      "execution_count": 1,
      "metadata": {
        "id": "tABIoDU5BRnN"
      },
      "outputs": [],
      "source": [
        "import pandas as pd\n",
        "import numpy as np"
      ]
    },
    {
      "cell_type": "code",
      "source": [
        "df=pd.DataFrame({\n",
        "    'NAME':['RAM','SAM','SIVA','JOSEPH','JACKLIN','RAHMAN'],\n",
        "    'AGE':[10,39,73,49,89,25],\n",
        "    'CALORIE BURNT':[12.4,45.3,34.8,23.3,56.2,26.5],\n",
        "    'WEIGHT REDUCED':[1,9,2,3,4,7],\n",
        "    'AMOUNT SPENT':[10000,21000,32909,84390,23900,3870]\n",
        "    })\n",
        "df"
      ],
      "metadata": {
        "colab": {
          "base_uri": "https://localhost:8080/",
          "height": 237
        },
        "id": "mgpb2PlbBlHH",
        "outputId": "0fd17bd9-12ca-4cd7-9ab9-a53b753f3fdf"
      },
      "execution_count": 2,
      "outputs": [
        {
          "output_type": "execute_result",
          "data": {
            "text/html": [
              "\n",
              "  <div id=\"df-caf19c4b-5ca5-4dec-ba28-d2f4d549a4e0\">\n",
              "    <div class=\"colab-df-container\">\n",
              "      <div>\n",
              "<style scoped>\n",
              "    .dataframe tbody tr th:only-of-type {\n",
              "        vertical-align: middle;\n",
              "    }\n",
              "\n",
              "    .dataframe tbody tr th {\n",
              "        vertical-align: top;\n",
              "    }\n",
              "\n",
              "    .dataframe thead th {\n",
              "        text-align: right;\n",
              "    }\n",
              "</style>\n",
              "<table border=\"1\" class=\"dataframe\">\n",
              "  <thead>\n",
              "    <tr style=\"text-align: right;\">\n",
              "      <th></th>\n",
              "      <th>NAME</th>\n",
              "      <th>AGE</th>\n",
              "      <th>CALORIE BURNT</th>\n",
              "      <th>WEIGHT REDUCED</th>\n",
              "      <th>AMOUNT SPENT</th>\n",
              "    </tr>\n",
              "  </thead>\n",
              "  <tbody>\n",
              "    <tr>\n",
              "      <th>0</th>\n",
              "      <td>RAM</td>\n",
              "      <td>10</td>\n",
              "      <td>12.4</td>\n",
              "      <td>1</td>\n",
              "      <td>10000</td>\n",
              "    </tr>\n",
              "    <tr>\n",
              "      <th>1</th>\n",
              "      <td>SAM</td>\n",
              "      <td>39</td>\n",
              "      <td>45.3</td>\n",
              "      <td>9</td>\n",
              "      <td>21000</td>\n",
              "    </tr>\n",
              "    <tr>\n",
              "      <th>2</th>\n",
              "      <td>SIVA</td>\n",
              "      <td>73</td>\n",
              "      <td>34.8</td>\n",
              "      <td>2</td>\n",
              "      <td>32909</td>\n",
              "    </tr>\n",
              "    <tr>\n",
              "      <th>3</th>\n",
              "      <td>JOSEPH</td>\n",
              "      <td>49</td>\n",
              "      <td>23.3</td>\n",
              "      <td>3</td>\n",
              "      <td>84390</td>\n",
              "    </tr>\n",
              "    <tr>\n",
              "      <th>4</th>\n",
              "      <td>JACKLIN</td>\n",
              "      <td>89</td>\n",
              "      <td>56.2</td>\n",
              "      <td>4</td>\n",
              "      <td>23900</td>\n",
              "    </tr>\n",
              "    <tr>\n",
              "      <th>5</th>\n",
              "      <td>RAHMAN</td>\n",
              "      <td>25</td>\n",
              "      <td>26.5</td>\n",
              "      <td>7</td>\n",
              "      <td>3870</td>\n",
              "    </tr>\n",
              "  </tbody>\n",
              "</table>\n",
              "</div>\n",
              "      <button class=\"colab-df-convert\" onclick=\"convertToInteractive('df-caf19c4b-5ca5-4dec-ba28-d2f4d549a4e0')\"\n",
              "              title=\"Convert this dataframe to an interactive table.\"\n",
              "              style=\"display:none;\">\n",
              "        \n",
              "  <svg xmlns=\"http://www.w3.org/2000/svg\" height=\"24px\"viewBox=\"0 0 24 24\"\n",
              "       width=\"24px\">\n",
              "    <path d=\"M0 0h24v24H0V0z\" fill=\"none\"/>\n",
              "    <path d=\"M18.56 5.44l.94 2.06.94-2.06 2.06-.94-2.06-.94-.94-2.06-.94 2.06-2.06.94zm-11 1L8.5 8.5l.94-2.06 2.06-.94-2.06-.94L8.5 2.5l-.94 2.06-2.06.94zm10 10l.94 2.06.94-2.06 2.06-.94-2.06-.94-.94-2.06-.94 2.06-2.06.94z\"/><path d=\"M17.41 7.96l-1.37-1.37c-.4-.4-.92-.59-1.43-.59-.52 0-1.04.2-1.43.59L10.3 9.45l-7.72 7.72c-.78.78-.78 2.05 0 2.83L4 21.41c.39.39.9.59 1.41.59.51 0 1.02-.2 1.41-.59l7.78-7.78 2.81-2.81c.8-.78.8-2.07 0-2.86zM5.41 20L4 18.59l7.72-7.72 1.47 1.35L5.41 20z\"/>\n",
              "  </svg>\n",
              "      </button>\n",
              "      \n",
              "  <style>\n",
              "    .colab-df-container {\n",
              "      display:flex;\n",
              "      flex-wrap:wrap;\n",
              "      gap: 12px;\n",
              "    }\n",
              "\n",
              "    .colab-df-convert {\n",
              "      background-color: #E8F0FE;\n",
              "      border: none;\n",
              "      border-radius: 50%;\n",
              "      cursor: pointer;\n",
              "      display: none;\n",
              "      fill: #1967D2;\n",
              "      height: 32px;\n",
              "      padding: 0 0 0 0;\n",
              "      width: 32px;\n",
              "    }\n",
              "\n",
              "    .colab-df-convert:hover {\n",
              "      background-color: #E2EBFA;\n",
              "      box-shadow: 0px 1px 2px rgba(60, 64, 67, 0.3), 0px 1px 3px 1px rgba(60, 64, 67, 0.15);\n",
              "      fill: #174EA6;\n",
              "    }\n",
              "\n",
              "    [theme=dark] .colab-df-convert {\n",
              "      background-color: #3B4455;\n",
              "      fill: #D2E3FC;\n",
              "    }\n",
              "\n",
              "    [theme=dark] .colab-df-convert:hover {\n",
              "      background-color: #434B5C;\n",
              "      box-shadow: 0px 1px 3px 1px rgba(0, 0, 0, 0.15);\n",
              "      filter: drop-shadow(0px 1px 2px rgba(0, 0, 0, 0.3));\n",
              "      fill: #FFFFFF;\n",
              "    }\n",
              "  </style>\n",
              "\n",
              "      <script>\n",
              "        const buttonEl =\n",
              "          document.querySelector('#df-caf19c4b-5ca5-4dec-ba28-d2f4d549a4e0 button.colab-df-convert');\n",
              "        buttonEl.style.display =\n",
              "          google.colab.kernel.accessAllowed ? 'block' : 'none';\n",
              "\n",
              "        async function convertToInteractive(key) {\n",
              "          const element = document.querySelector('#df-caf19c4b-5ca5-4dec-ba28-d2f4d549a4e0');\n",
              "          const dataTable =\n",
              "            await google.colab.kernel.invokeFunction('convertToInteractive',\n",
              "                                                     [key], {});\n",
              "          if (!dataTable) return;\n",
              "\n",
              "          const docLinkHtml = 'Like what you see? Visit the ' +\n",
              "            '<a target=\"_blank\" href=https://colab.research.google.com/notebooks/data_table.ipynb>data table notebook</a>'\n",
              "            + ' to learn more about interactive tables.';\n",
              "          element.innerHTML = '';\n",
              "          dataTable['output_type'] = 'display_data';\n",
              "          await google.colab.output.renderOutput(dataTable, element);\n",
              "          const docLink = document.createElement('div');\n",
              "          docLink.innerHTML = docLinkHtml;\n",
              "          element.appendChild(docLink);\n",
              "        }\n",
              "      </script>\n",
              "    </div>\n",
              "  </div>\n",
              "  "
            ],
            "text/plain": [
              "      NAME  AGE  CALORIE BURNT  WEIGHT REDUCED  AMOUNT SPENT\n",
              "0      RAM   10           12.4               1         10000\n",
              "1      SAM   39           45.3               9         21000\n",
              "2     SIVA   73           34.8               2         32909\n",
              "3   JOSEPH   49           23.3               3         84390\n",
              "4  JACKLIN   89           56.2               4         23900\n",
              "5   RAHMAN   25           26.5               7          3870"
            ]
          },
          "metadata": {},
          "execution_count": 2
        }
      ]
    },
    {
      "cell_type": "code",
      "source": [
        "sum=df.sum(0)\n",
        "sum"
      ],
      "metadata": {
        "colab": {
          "base_uri": "https://localhost:8080/"
        },
        "id": "nsxP8aObBqKX",
        "outputId": "e5f7fe3a-d289-4bf8-9a5a-aa18c9387986"
      },
      "execution_count": 11,
      "outputs": [
        {
          "output_type": "execute_result",
          "data": {
            "text/plain": [
              "NAME              RAMSAMSIVAJOSEPHJACKLINRAHMAN\n",
              "AGE                                         285\n",
              "CALORIE BURNT                             198.5\n",
              "WEIGHT REDUCED                               26\n",
              "AMOUNT SPENT                             176069\n",
              "dtype: object"
            ]
          },
          "metadata": {},
          "execution_count": 11
        }
      ]
    },
    {
      "cell_type": "code",
      "source": [
        "sum=df.sum(1)\n",
        "sum"
      ],
      "metadata": {
        "colab": {
          "base_uri": "https://localhost:8080/"
        },
        "id": "ODP4FHf9BxVL",
        "outputId": "8cb00d77-8abb-424f-f198-736403806660"
      },
      "execution_count": 10,
      "outputs": [
        {
          "output_type": "execute_result",
          "data": {
            "text/plain": [
              "0    10023.4\n",
              "1    21093.3\n",
              "2    33018.8\n",
              "3    84465.3\n",
              "4    24049.2\n",
              "5     3928.5\n",
              "dtype: float64"
            ]
          },
          "metadata": {},
          "execution_count": 10
        }
      ]
    },
    {
      "cell_type": "code",
      "source": [
        "sum1=df['AGE']\n",
        "sum=sum1.sum()\n",
        "sum"
      ],
      "metadata": {
        "colab": {
          "base_uri": "https://localhost:8080/"
        },
        "id": "v6GEH_1nCGkH",
        "outputId": "decce90e-1ae9-4770-ac84-dae945e0685e"
      },
      "execution_count": 31,
      "outputs": [
        {
          "output_type": "execute_result",
          "data": {
            "text/plain": [
              "285"
            ]
          },
          "metadata": {},
          "execution_count": 31
        }
      ]
    },
    {
      "cell_type": "code",
      "source": [
        "mean=df.mean()\n",
        "mean"
      ],
      "metadata": {
        "colab": {
          "base_uri": "https://localhost:8080/"
        },
        "id": "zK1ubfXUC-7p",
        "outputId": "7f0a9a4f-e99c-4d76-e41e-1c46a332545c"
      },
      "execution_count": 39,
      "outputs": [
        {
          "output_type": "execute_result",
          "data": {
            "text/plain": [
              "AGE                  47.500000\n",
              "CALORIE BURNT        33.083333\n",
              "WEIGHT REDUCED        4.333333\n",
              "AMOUNT SPENT      29344.833333\n",
              "dtype: float64"
            ]
          },
          "metadata": {},
          "execution_count": 39
        }
      ]
    },
    {
      "cell_type": "code",
      "source": [
        "mean=df.mean(1)\n",
        "mean"
      ],
      "metadata": {
        "colab": {
          "base_uri": "https://localhost:8080/"
        },
        "id": "XtcNCK1NDrbc",
        "outputId": "8755ceff-048d-44cb-bbc9-f84c0bf56af2"
      },
      "execution_count": 41,
      "outputs": [
        {
          "output_type": "execute_result",
          "data": {
            "text/plain": [
              "0     2505.850\n",
              "1     5273.325\n",
              "2     8254.700\n",
              "3    21116.325\n",
              "4     6012.300\n",
              "5      982.125\n",
              "dtype: float64"
            ]
          },
          "metadata": {},
          "execution_count": 41
        }
      ]
    },
    {
      "cell_type": "code",
      "source": [
        "std=df.std()\n",
        "std"
      ],
      "metadata": {
        "colab": {
          "base_uri": "https://localhost:8080/"
        },
        "id": "_srpPtFyD45Q",
        "outputId": "16963eef-7ed0-4f6b-bce2-7dda948499e8"
      },
      "execution_count": 43,
      "outputs": [
        {
          "output_type": "execute_result",
          "data": {
            "text/plain": [
              "AGE                  29.527953\n",
              "CALORIE BURNT        15.833056\n",
              "WEIGHT REDUCED        3.076795\n",
              "AMOUNT SPENT      28862.244614\n",
              "dtype: float64"
            ]
          },
          "metadata": {},
          "execution_count": 43
        }
      ]
    },
    {
      "cell_type": "code",
      "source": [
        "percentile=df.std()/df.mean()\n",
        "percentile"
      ],
      "metadata": {
        "colab": {
          "base_uri": "https://localhost:8080/"
        },
        "id": "M-Wmt3ixD7fm",
        "outputId": "40ea8a15-21df-498a-aef9-0a547d2f7ec0"
      },
      "execution_count": 45,
      "outputs": [
        {
          "output_type": "execute_result",
          "data": {
            "text/plain": [
              "AGE               0.621641\n",
              "CALORIE BURNT     0.478581\n",
              "WEIGHT REDUCED    0.710030\n",
              "AMOUNT SPENT      0.983555\n",
              "dtype: float64"
            ]
          },
          "metadata": {},
          "execution_count": 45
        }
      ]
    },
    {
      "cell_type": "code",
      "source": [
        "variant=np.var(df)\n",
        "variant"
      ],
      "metadata": {
        "colab": {
          "base_uri": "https://localhost:8080/"
        },
        "id": "nQjoleCEEIUL",
        "outputId": "7e63ac69-c850-4329-f7e1-09b167a8a0a3"
      },
      "execution_count": 51,
      "outputs": [
        {
          "output_type": "execute_result",
          "data": {
            "text/plain": [
              "AGE               7.265833e+02\n",
              "CALORIE BURNT     2.089047e+02\n",
              "WEIGHT REDUCED    7.888889e+00\n",
              "AMOUNT SPENT      6.941910e+08\n",
              "dtype: float64"
            ]
          },
          "metadata": {},
          "execution_count": 51
        }
      ]
    }
  ]
}