{
  "nbformat": 4,
  "nbformat_minor": 0,
  "metadata": {
    "colab": {
      "name": "Untitled43.ipynb",
      "provenance": [],
      "authorship_tag": "ABX9TyMI6sl53crQJW625CigUI9l",
      "include_colab_link": true
    },
    "kernelspec": {
      "name": "python3",
      "display_name": "Python 3"
    },
    "language_info": {
      "name": "python"
    }
  },
  "cells": [
    {
      "cell_type": "markdown",
      "metadata": {
        "id": "view-in-github",
        "colab_type": "text"
      },
      "source": [
        "<a href=\"https://colab.research.google.com/github/manoj-raghav/python/blob/main/22/12/2021.ipynb\" target=\"_parent\"><img src=\"https://colab.research.google.com/assets/colab-badge.svg\" alt=\"Open In Colab\"/></a>"
      ]
    },
    {
      "cell_type": "code",
      "execution_count": 16,
      "metadata": {
        "colab": {
          "base_uri": "https://localhost:8080/"
        },
        "id": "GvzygqjPsOsg",
        "outputId": "d9b0fbc9-45c6-47c5-ba29-2e726fac3ed2"
      },
      "outputs": [
        {
          "output_type": "stream",
          "name": "stdout",
          "text": [
            "MENU CARD:\n",
            "\t1.TEA     :Rs.10\n",
            "\t2.COFFEE  :Rs.20\n",
            "\t3.COKE    :Rs.50\n",
            "\t4.CORN    :Rs.50\n",
            "ENTER THE ITEM NO: 1\n",
            "ENTER THE QUANTITY: 10\n",
            "100\n",
            "PRESS 1 TO CONTINUE: 1\n",
            "100\n"
          ]
        }
      ],
      "source": [
        "print('''MENU CARD:\\n\\t1.TEA     :Rs.10\\n\\t2.COFFEE  :Rs.20\\n\\t3.COKE    :Rs.50\\n\\t4.CORN    :Rs.50''')\n",
        "a=int(input('ENTER THE ITEM NO: '))\n",
        "qty=int(input('ENTER THE QUANTITY: '))\n",
        "def order(a,qty1):\n",
        " if(a==1):\n",
        "    print(10*qty)\n",
        " elif(a==2):\n",
        "   print(20*qty)\n",
        " elif(a==3):\n",
        "   print(50*qty)\n",
        " elif(a==4):\n",
        "   print(50*qty)\n",
        " else:\n",
        "   print('invalid input')\n",
        "\n",
        "order(a,qty)\n"
      ]
    }
  ]
}