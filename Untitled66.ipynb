{
  "nbformat": 4,
  "nbformat_minor": 0,
  "metadata": {
    "colab": {
      "name": "Untitled64.ipynb",
      "provenance": [],
      "include_colab_link": true
    },
    "kernelspec": {
      "name": "python3",
      "display_name": "Python 3"
    },
    "language_info": {
      "name": "python"
    }
  },
  "cells": [
    {
      "cell_type": "markdown",
      "metadata": {
        "id": "view-in-github",
        "colab_type": "text"
      },
      "source": [
        "<a href=\"https://colab.research.google.com/github/manoj-raghav/python/blob/main/Untitled66.ipynb\" target=\"_parent\"><img src=\"https://colab.research.google.com/assets/colab-badge.svg\" alt=\"Open In Colab\"/></a>"
      ]
    },
    {
      "cell_type": "markdown",
      "source": [
        "FILTERING ARRAY"
      ],
      "metadata": {
        "id": "H1P82acXM2bJ"
      }
    },
    {
      "cell_type": "code",
      "source": [
        "import numpy as np"
      ],
      "metadata": {
        "id": "kbBuJoIOM4h0"
      },
      "execution_count": 1,
      "outputs": []
    },
    {
      "cell_type": "markdown",
      "source": [
        "Creating Filter Directly From Array"
      ],
      "metadata": {
        "id": "h4Vkmt-ub08-"
      }
    },
    {
      "cell_type": "code",
      "source": [
        "a=np.array([12,45,78,49])\n",
        "filter=a>40\n",
        "print(filter)\n",
        "\n",
        "new=a[filter]\n",
        "print(new)"
      ],
      "metadata": {
        "id": "Pmz3OI9Jb7LX",
        "outputId": "53113170-c965-40df-e88c-586e1ff3c45c",
        "colab": {
          "base_uri": "https://localhost:8080/"
        }
      },
      "execution_count": 11,
      "outputs": [
        {
          "output_type": "stream",
          "name": "stdout",
          "text": [
            "[False  True  True  True]\n",
            "[45 78 49]\n"
          ]
        }
      ]
    },
    {
      "cell_type": "code",
      "source": [
        "a=np.array([1,2,3,4,5,6,7,8,9,0])\n",
        "array=a%2==0\n",
        "new=a[array]\n",
        "print(new)"
      ],
      "metadata": {
        "id": "6xiK_7c_cVIS",
        "outputId": "14ad8034-82b5-4e0b-c396-6a71ed5b91f3",
        "colab": {
          "base_uri": "https://localhost:8080/"
        }
      },
      "execution_count": 8,
      "outputs": [
        {
          "output_type": "stream",
          "name": "stdout",
          "text": [
            "[2 4 6 8 0]\n"
          ]
        }
      ]
    },
    {
      "cell_type": "code",
      "source": [
        "a=np.array([1,2,3,4,5,6,7,8,9,0])\n",
        "f=[]\n",
        "for i in a:\n",
        "  if i%2==0:\n",
        "    f.append(True)\n",
        "#  else:\n",
        "#   f.append(False)\n",
        "  \n",
        "print(f)\n",
        "\n",
        "#new=a[f]\n",
        "#new"
      ],
      "metadata": {
        "id": "Uoem50a9dnyu",
        "outputId": "362868fb-defe-409e-f682-2960f024fe46",
        "colab": {
          "base_uri": "https://localhost:8080/"
        }
      },
      "execution_count": 9,
      "outputs": [
        {
          "output_type": "stream",
          "name": "stdout",
          "text": [
            "[True, True, True, True, True]\n"
          ]
        }
      ]
    },
    {
      "cell_type": "code",
      "source": [
        "a=np.array([1,2,3,4,5,6,7,8,9,0])\n",
        "f=[]\n",
        "for i in a:\n",
        "  if i%2==0:\n",
        "    f.append(True)\n",
        "#  else:\n",
        "#   f.append(False)\n",
        "  \n",
        "print(f)\n",
        "\n",
        "new=a[f]\n",
        "new"
      ],
      "metadata": {
        "id": "JeHOlqkPeqEb",
        "outputId": "bb4c66f0-ed59-4f10-dc42-0ec35bdcb3f6",
        "colab": {
          "base_uri": "https://localhost:8080/",
          "height": 235
        }
      },
      "execution_count": 10,
      "outputs": [
        {
          "output_type": "stream",
          "name": "stdout",
          "text": [
            "[True, True, True, True, True]\n"
          ]
        },
        {
          "output_type": "error",
          "ename": "IndexError",
          "evalue": "ignored",
          "traceback": [
            "\u001b[0;31m---------------------------------------------------------------------------\u001b[0m",
            "\u001b[0;31mIndexError\u001b[0m                                Traceback (most recent call last)",
            "\u001b[0;32m<ipython-input-10-3521066e624e>\u001b[0m in \u001b[0;36m<module>\u001b[0;34m()\u001b[0m\n\u001b[1;32m      9\u001b[0m \u001b[0mprint\u001b[0m\u001b[0;34m(\u001b[0m\u001b[0mf\u001b[0m\u001b[0;34m)\u001b[0m\u001b[0;34m\u001b[0m\u001b[0;34m\u001b[0m\u001b[0m\n\u001b[1;32m     10\u001b[0m \u001b[0;34m\u001b[0m\u001b[0m\n\u001b[0;32m---> 11\u001b[0;31m \u001b[0mnew\u001b[0m\u001b[0;34m=\u001b[0m\u001b[0ma\u001b[0m\u001b[0;34m[\u001b[0m\u001b[0mf\u001b[0m\u001b[0;34m]\u001b[0m\u001b[0;34m\u001b[0m\u001b[0;34m\u001b[0m\u001b[0m\n\u001b[0m\u001b[1;32m     12\u001b[0m \u001b[0mnew\u001b[0m\u001b[0;34m\u001b[0m\u001b[0;34m\u001b[0m\u001b[0m\n",
            "\u001b[0;31mIndexError\u001b[0m: boolean index did not match indexed array along dimension 0; dimension is 10 but corresponding boolean dimension is 5"
          ]
        }
      ]
    }
  ]
}