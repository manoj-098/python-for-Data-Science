{
  "nbformat": 4,
  "nbformat_minor": 0,
  "metadata": {
    "colab": {
      "name": "Untitled75.ipynb",
      "provenance": [],
      "authorship_tag": "ABX9TyNXaf3bCZkjmRKPjSd36vX0",
      "include_colab_link": true
    },
    "kernelspec": {
      "name": "python3",
      "display_name": "Python 3"
    },
    "language_info": {
      "name": "python"
    }
  },
  "cells": [
    {
      "cell_type": "markdown",
      "metadata": {
        "id": "view-in-github",
        "colab_type": "text"
      },
      "source": [
        "<a href=\"https://colab.research.google.com/github/manoj-raghav/python-for-Data-Science/blob/main/Untitled75.ipynb\" target=\"_parent\"><img src=\"https://colab.research.google.com/assets/colab-badge.svg\" alt=\"Open In Colab\"/></a>"
      ]
    },
    {
      "cell_type": "markdown",
      "source": [
        "DICTIONARIES"
      ],
      "metadata": {
        "id": "k1edptLnIOXO"
      }
    },
    {
      "cell_type": "code",
      "source": [
        "my_dict={\n",
        "    'name1':'MANOJ',\n",
        " 'name2':'KISHOOR',\n",
        " 'name3':'RAMU',\n",
        " 'name4':'KUMAR',\n",
        " 'name5':'SABARI'\n",
        "}\n",
        "print(my_dict)"
      ],
      "metadata": {
        "colab": {
          "base_uri": "https://localhost:8080/"
        },
        "id": "N7yM9YHLIRon",
        "outputId": "5a379fdc-dade-4d2b-f04b-edf0bd84a32a"
      },
      "execution_count": 50,
      "outputs": [
        {
          "output_type": "stream",
          "name": "stdout",
          "text": [
            "{'name1': 'MANOJ', 'name2': 'KISHOOR', 'name3': 'RAMU', 'name4': 'KUMAR', 'name5': 'SABARI'}\n"
          ]
        }
      ]
    },
    {
      "cell_type": "code",
      "source": [
        "print(my_dict[\"name3\"])"
      ],
      "metadata": {
        "colab": {
          "base_uri": "https://localhost:8080/"
        },
        "id": "VHvAPCDRI-71",
        "outputId": "b38a9092-952a-4b1f-f1a6-c291788d095d"
      },
      "execution_count": 51,
      "outputs": [
        {
          "output_type": "stream",
          "name": "stdout",
          "text": [
            "RAMU\n"
          ]
        }
      ]
    },
    {
      "cell_type": "code",
      "source": [
        "print(my_dict['MANOJ'])"
      ],
      "metadata": {
        "colab": {
          "base_uri": "https://localhost:8080/",
          "height": 172
        },
        "id": "ei_OP38yJS_l",
        "outputId": "f164dcbf-78d9-48e4-a884-bca50e3f222c"
      },
      "execution_count": 55,
      "outputs": [
        {
          "output_type": "error",
          "ename": "KeyError",
          "evalue": "ignored",
          "traceback": [
            "\u001b[0;31m---------------------------------------------------------------------------\u001b[0m",
            "\u001b[0;31mKeyError\u001b[0m                                  Traceback (most recent call last)",
            "\u001b[0;32m<ipython-input-55-dc8bef9c7c6d>\u001b[0m in \u001b[0;36m<module>\u001b[0;34m()\u001b[0m\n\u001b[0;32m----> 1\u001b[0;31m \u001b[0mprint\u001b[0m\u001b[0;34m(\u001b[0m\u001b[0mmy_dict\u001b[0m\u001b[0;34m[\u001b[0m\u001b[0;34m'MANOJ'\u001b[0m\u001b[0;34m]\u001b[0m\u001b[0;34m)\u001b[0m\u001b[0;34m\u001b[0m\u001b[0;34m\u001b[0m\u001b[0m\n\u001b[0m",
            "\u001b[0;31mKeyError\u001b[0m: 'MANOJ'"
          ]
        }
      ]
    },
    {
      "cell_type": "code",
      "source": [
        "my_dict={\n",
        "    'name1':'MANOJ',\n",
        " 'name2':'KISHOOR',\n",
        " 'name3':'RAMU',\n",
        " 'name4':'KUMAR',\n",
        " 'name5':['manoj','kishoor','ramu','kumar']\n",
        "}\n",
        "my_dict"
      ],
      "metadata": {
        "colab": {
          "base_uri": "https://localhost:8080/"
        },
        "id": "uP4iCDnoJgC_",
        "outputId": "3de97ced-9570-48bd-b491-7541d0063ae6"
      },
      "execution_count": 70,
      "outputs": [
        {
          "output_type": "execute_result",
          "data": {
            "text/plain": [
              "{'name1': 'MANOJ',\n",
              " 'name2': 'KISHOOR',\n",
              " 'name3': 'RAMU',\n",
              " 'name4': 'KUMAR',\n",
              " 'name5': ['manoj', 'kishoor', 'ramu', 'kumar']}"
            ]
          },
          "metadata": {},
          "execution_count": 70
        }
      ]
    },
    {
      "cell_type": "code",
      "source": [
        "x=my_dict.get('name3')\n",
        "x"
      ],
      "metadata": {
        "colab": {
          "base_uri": "https://localhost:8080/",
          "height": 36
        },
        "id": "fdWoKY3pJ2KZ",
        "outputId": "9e8e3038-84df-4967-b14b-c994e92d1a13"
      },
      "execution_count": 59,
      "outputs": [
        {
          "output_type": "execute_result",
          "data": {
            "application/vnd.google.colaboratory.intrinsic+json": {
              "type": "string"
            },
            "text/plain": [
              "'RAMU'"
            ]
          },
          "metadata": {},
          "execution_count": 59
        }
      ]
    },
    {
      "cell_type": "code",
      "source": [
        "x=my_dict.keys()\n",
        "x"
      ],
      "metadata": {
        "colab": {
          "base_uri": "https://localhost:8080/"
        },
        "id": "b9-owIzRKaX7",
        "outputId": "c1ec347a-725d-4414-f2f9-421622fe07cc"
      },
      "execution_count": 60,
      "outputs": [
        {
          "output_type": "execute_result",
          "data": {
            "text/plain": [
              "dict_keys(['name1', 'name2', 'name3', 'name4', 'name5'])"
            ]
          },
          "metadata": {},
          "execution_count": 60
        }
      ]
    },
    {
      "cell_type": "code",
      "source": [
        "x=my_dict.values()\n",
        "x"
      ],
      "metadata": {
        "colab": {
          "base_uri": "https://localhost:8080/"
        },
        "id": "Zl_U7PnLKeYR",
        "outputId": "51bf12c6-fb1b-4e9c-8dba-321e6c427acd"
      },
      "execution_count": 64,
      "outputs": [
        {
          "output_type": "execute_result",
          "data": {
            "text/plain": [
              "dict_values(['MANOJ', 'KISHOOR', 'RAMU', 'KUMAR', ['manoj', 'kishoor', 'ramu', 'kumar']])"
            ]
          },
          "metadata": {},
          "execution_count": 64
        }
      ]
    },
    {
      "cell_type": "markdown",
      "source": [
        "Adding/altering the keys and values in dictionary"
      ],
      "metadata": {
        "id": "jSK83o2-LM0g"
      }
    },
    {
      "cell_type": "code",
      "source": [
        "my_dict['name55']='manager'\n",
        "my_dict"
      ],
      "metadata": {
        "colab": {
          "base_uri": "https://localhost:8080/"
        },
        "id": "RvXBfHB1KsFp",
        "outputId": "a6c46ec5-11a0-458b-968b-82e03a985b85"
      },
      "execution_count": 71,
      "outputs": [
        {
          "output_type": "execute_result",
          "data": {
            "text/plain": [
              "{'name1': 'MANOJ',\n",
              " 'name2': 'KISHOOR',\n",
              " 'name3': 'RAMU',\n",
              " 'name4': 'KUMAR',\n",
              " 'name5': ['manoj', 'kishoor', 'ramu', 'kumar'],\n",
              " 'name55': 'manager'}"
            ]
          },
          "metadata": {},
          "execution_count": 71
        }
      ]
    },
    {
      "cell_type": "code",
      "source": [
        "x=my_dict.items()\n",
        "print(x)  #before change\n",
        "\n",
        "my_dict['colour']='white'\n",
        "print(x)  #Ater change"
      ],
      "metadata": {
        "colab": {
          "base_uri": "https://localhost:8080/"
        },
        "id": "37jeZlmOLWOL",
        "outputId": "b5c238bb-f641-4b6e-8b3a-5691aed0a7b0"
      },
      "execution_count": 74,
      "outputs": [
        {
          "output_type": "stream",
          "name": "stdout",
          "text": [
            "dict_items([('name1', 'MANOJ'), ('name2', 'KISHOOR'), ('name3', 'RAMU'), ('name4', 'KUMAR'), ('name5', ['manoj', 'kishoor', 'ramu', 'kumar']), ('name55', 'manager')])\n",
            "dict_items([('name1', 'MANOJ'), ('name2', 'KISHOOR'), ('name3', 'RAMU'), ('name4', 'KUMAR'), ('name5', ['manoj', 'kishoor', 'ramu', 'kumar']), ('name55', 'manager'), ('colour', 'white')])\n"
          ]
        }
      ]
    },
    {
      "cell_type": "code",
      "source": [
        "thisdict={\n",
        "    'brand':'Benz',\n",
        "    'colour':'Red',\n",
        "    'year':2003\n",
        "}\n",
        "if 'year' in thisdict:\n",
        "  print(thisdict['year'])"
      ],
      "metadata": {
        "colab": {
          "base_uri": "https://localhost:8080/"
        },
        "id": "2qtgoTBHLgkE",
        "outputId": "4dc3c2f1-9fc6-49a0-a4b4-f31ba2442a04"
      },
      "execution_count": 94,
      "outputs": [
        {
          "output_type": "stream",
          "name": "stdout",
          "text": [
            "2003\n"
          ]
        }
      ]
    }
  ]
}