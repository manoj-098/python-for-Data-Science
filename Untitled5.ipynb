{
  "nbformat": 4,
  "nbformat_minor": 0,
  "metadata": {
    "colab": {
      "name": "Untitled5.ipynb",
      "provenance": [],
      "authorship_tag": "ABX9TyMalz4nuoG8Nqgmy2L46W7b",
      "include_colab_link": true
    },
    "kernelspec": {
      "name": "python3",
      "display_name": "Python 3"
    },
    "language_info": {
      "name": "python"
    }
  },
  "cells": [
    {
      "cell_type": "markdown",
      "metadata": {
        "id": "view-in-github",
        "colab_type": "text"
      },
      "source": [
        "<a href=\"https://colab.research.google.com/github/manoj-raghav/python/blob/main/Untitled5.ipynb\" target=\"_parent\"><img src=\"https://colab.research.google.com/assets/colab-badge.svg\" alt=\"Open In Colab\"/></a>"
      ]
    },
    {
      "cell_type": "code",
      "execution_count": 4,
      "metadata": {
        "colab": {
          "base_uri": "https://localhost:8080/"
        },
        "id": "zSBm4udJBJPJ",
        "outputId": "dbd52bff-6801-42b6-8056-c35b71f4ef97"
      },
      "outputs": [
        {
          "output_type": "stream",
          "name": "stdout",
          "text": [
            "ENTE THE LIMIT10\n",
            "EVEN OR ODDeven\n",
            "2\n",
            "4\n",
            "6\n",
            "8\n",
            "10\n"
          ]
        }
      ],
      "source": [
        "a=int(input(\"ENTE THE LIMIT\"))\n",
        "n=input(\"EVEN OR ODD\")\n",
        "if n==\"even\":\n",
        "  for i in range(2,a+1):\n",
        "    if i%2==0:\n",
        "      print(i)\n",
        "if n==\"odd\":\n",
        "  for i in range(1,a+1):\n",
        "    if i%2!=0:\n",
        "      print(i)"
      ]
    }
  ]
}