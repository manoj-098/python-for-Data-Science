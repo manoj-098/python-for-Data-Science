{
  "nbformat": 4,
  "nbformat_minor": 0,
  "metadata": {
    "colab": {
      "name": "Untitled54.ipynb",
      "provenance": [],
      "include_colab_link": true
    },
    "kernelspec": {
      "name": "python3",
      "display_name": "Python 3"
    },
    "language_info": {
      "name": "python"
    }
  },
  "cells": [
    {
      "cell_type": "markdown",
      "metadata": {
        "id": "view-in-github",
        "colab_type": "text"
      },
      "source": [
        "<a href=\"https://colab.research.google.com/github/manoj-raghav/python/blob/main/Untitled54.ipynb\" target=\"_parent\"><img src=\"https://colab.research.google.com/assets/colab-badge.svg\" alt=\"Open In Colab\"/></a>"
      ]
    },
    {
      "cell_type": "code",
      "execution_count": null,
      "metadata": {
        "id": "r0W1UkxiwQz4"
      },
      "outputs": [],
      "source": [
        "\n",
        "import numpy as np\n",
        "\n"
      ]
    },
    {
      "cell_type": "code",
      "source": [
        "#CHECKING DATA TYPE\n",
        "c.dtype\n",
        "\n",
        "#converting data type as string\n",
        "c=np.array([1,2,3,4,5],dtype='S')\n",
        "c.dtype\n",
        "\n",
        "#fixing datatype size i.e.fixing 4 bytes integer\n",
        "c=np.array([1,2,33,4,5],dtype='i4')\n",
        "c.dtype"
      ],
      "metadata": {
        "colab": {
          "base_uri": "https://localhost:8080/"
        },
        "id": "NcTDTJBg3jAc",
        "outputId": "47077dc5-8a44-4c69-a72c-c56915a2ff25"
      },
      "execution_count": null,
      "outputs": [
        {
          "output_type": "execute_result",
          "data": {
            "text/plain": [
              "dtype('int32')"
            ]
          },
          "metadata": {},
          "execution_count": 56
        }
      ]
    },
    {
      "cell_type": "code",
      "source": [
        "#value error\n",
        "c=np.array(['a','1','3'],dtype='i')\n",
        "c.dtype\n",
        "\n",
        "#elements should be of similar type "
      ],
      "metadata": {
        "colab": {
          "base_uri": "https://localhost:8080/",
          "height": 200
        },
        "id": "VwUWgCkf42Ms",
        "outputId": "bbe833df-8e43-41d6-8055-b1e39f0c5085"
      },
      "execution_count": null,
      "outputs": [
        {
          "output_type": "error",
          "ename": "ValueError",
          "evalue": "ignored",
          "traceback": [
            "\u001b[0;31m---------------------------------------------------------------------------\u001b[0m",
            "\u001b[0;31mValueError\u001b[0m                                Traceback (most recent call last)",
            "\u001b[0;32m<ipython-input-57-d60ca23a6fa3>\u001b[0m in \u001b[0;36m<module>\u001b[0;34m()\u001b[0m\n\u001b[1;32m      1\u001b[0m \u001b[0;31m#value error\u001b[0m\u001b[0;34m\u001b[0m\u001b[0;34m\u001b[0m\u001b[0;34m\u001b[0m\u001b[0m\n\u001b[0;32m----> 2\u001b[0;31m \u001b[0mc\u001b[0m\u001b[0;34m=\u001b[0m\u001b[0mnp\u001b[0m\u001b[0;34m.\u001b[0m\u001b[0marray\u001b[0m\u001b[0;34m(\u001b[0m\u001b[0;34m[\u001b[0m\u001b[0;34m'a'\u001b[0m\u001b[0;34m,\u001b[0m\u001b[0;34m'1'\u001b[0m\u001b[0;34m,\u001b[0m\u001b[0;34m'3'\u001b[0m\u001b[0;34m]\u001b[0m\u001b[0;34m,\u001b[0m\u001b[0mdtype\u001b[0m\u001b[0;34m=\u001b[0m\u001b[0;34m'i'\u001b[0m\u001b[0;34m)\u001b[0m\u001b[0;34m\u001b[0m\u001b[0;34m\u001b[0m\u001b[0m\n\u001b[0m\u001b[1;32m      3\u001b[0m \u001b[0mc\u001b[0m\u001b[0;34m.\u001b[0m\u001b[0mdtype\u001b[0m\u001b[0;34m\u001b[0m\u001b[0;34m\u001b[0m\u001b[0m\n",
            "\u001b[0;31mValueError\u001b[0m: invalid literal for int() with base 10: 'a'"
          ]
        }
      ]
    },
    {
      "cell_type": "code",
      "source": [
        "#converting data type of a predefined array\n",
        "c=np.array([1,2,3,4,5,6,7])\n",
        "data=c.dtype\n",
        "\n",
        "let=c.astype('S')\n",
        "met=c.astype('i4')\n",
        "\n",
        "print(data)\n",
        "print(let.dtype)\n",
        "print(met.dtype)"
      ],
      "metadata": {
        "colab": {
          "base_uri": "https://localhost:8080/"
        },
        "id": "t6cop7E25HUS",
        "outputId": "a5b4a835-50f7-45e6-cf3b-4bb232f3f54c"
      },
      "execution_count": null,
      "outputs": [
        {
          "output_type": "stream",
          "name": "stdout",
          "text": [
            "int64\n",
            "|S21\n",
            "int32\n"
          ]
        }
      ]
    },
    {
      "cell_type": "code",
      "source": [
        "#converting elements of the array into our desired data type\n",
        "c=np.array([1.2,2.3,0,6.7])\n",
        "let=c.dtype\n",
        "\n",
        "met=c.astype(int)\n",
        "\n",
        "print(let)\n",
        "print(met)\n",
        "\n",
        "#float values have beeen converted into int type\n",
        "\n",
        "cat=c.astype(bool)\n",
        "print(cat)"
      ],
      "metadata": {
        "colab": {
          "base_uri": "https://localhost:8080/"
        },
        "id": "n9GC-tj45yuc",
        "outputId": "0447f58c-8994-45f1-af99-6a680997b99d"
      },
      "execution_count": null,
      "outputs": [
        {
          "output_type": "stream",
          "name": "stdout",
          "text": [
            "float64\n",
            "[1 2 0 6]\n",
            "[ True  True False  True]\n"
          ]
        }
      ]
    },
    {
      "cell_type": "markdown",
      "source": [
        "COPY VS VIEW"
      ],
      "metadata": {
        "id": "s2nMtxNm66Zs"
      }
    },
    {
      "cell_type": "code",
      "source": [
        "#changing original values and viewing the array\n",
        "c=np.array([1,2,3,4,5])\n",
        "m=c.view()\n",
        "c[1]=12\n",
        "\n",
        "print(m)\n",
        "print(c)"
      ],
      "metadata": {
        "colab": {
          "base_uri": "https://localhost:8080/"
        },
        "id": "V31Yz3P-6--g",
        "outputId": "7c718ab3-2101-4166-b0d6-588f19b4a6d4"
      },
      "execution_count": null,
      "outputs": [
        {
          "output_type": "stream",
          "name": "stdout",
          "text": [
            "[ 1 12  3  4  5]\n",
            "[ 1 12  3  4  5]\n"
          ]
        }
      ]
    },
    {
      "cell_type": "code",
      "source": [
        "x=c.copy()\n",
        "y=c.view()\n",
        "\n",
        "print(x.base)\n",
        "print(y.base)\n",
        "\n",
        "#copy owns the data and hence it shows as none\n",
        "#but view doesnt store the data and hence it shows the data which has been asssigned to it currently\n",
        "#base is the key word"
      ],
      "metadata": {
        "colab": {
          "base_uri": "https://localhost:8080/"
        },
        "id": "t8TeXYle7s5E",
        "outputId": "4802bfeb-374b-47c0-aff0-81fc0c09415f"
      },
      "execution_count": null,
      "outputs": [
        {
          "output_type": "stream",
          "name": "stdout",
          "text": [
            "None\n",
            "[ 1 12  3  4  5]\n"
          ]
        }
      ]
    }
  ]
}