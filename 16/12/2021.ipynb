{
  "nbformat": 4,
  "nbformat_minor": 0,
  "metadata": {
    "colab": {
      "name": "Untitled26.ipynb",
      "provenance": [],
      "authorship_tag": "ABX9TyP5+Hk1rxxaenOhNM0rTv5i",
      "include_colab_link": true
    },
    "kernelspec": {
      "name": "python3",
      "display_name": "Python 3"
    },
    "language_info": {
      "name": "python"
    }
  },
  "cells": [
    {
      "cell_type": "markdown",
      "metadata": {
        "id": "view-in-github",
        "colab_type": "text"
      },
      "source": [
        "<a href=\"https://colab.research.google.com/github/manoj-raghav/python/blob/main/16/12/2021.ipynb\" target=\"_parent\"><img src=\"https://colab.research.google.com/assets/colab-badge.svg\" alt=\"Open In Colab\"/></a>"
      ]
    },
    {
      "cell_type": "code",
      "execution_count": 9,
      "metadata": {
        "colab": {
          "base_uri": "https://localhost:8080/"
        },
        "id": "ZMHB3J9fQT6R",
        "outputId": "63a7ec96-cc23-485e-c381-4acfeba09e1c"
      },
      "outputs": [
        {
          "output_type": "stream",
          "name": "stdout",
          "text": [
            "29827.6\n"
          ]
        }
      ],
      "source": [
        "import pandas as pd\n",
        "import numpy as np\n",
        "players=np.array([1049,2930,38390,49283,57486])\n",
        "mean=np.mean(players)\n",
        "print(mean)\n",
        "\n",
        "\n",
        "\n"
      ]
    },
    {
      "cell_type": "code",
      "source": [
        "sum=np.sum(players)\n",
        "print(sum)"
      ],
      "metadata": {
        "colab": {
          "base_uri": "https://localhost:8080/"
        },
        "id": "EimoeQEzUMjy",
        "outputId": "9156fd17-c5dc-427d-f027-e7089478e3f2"
      },
      "execution_count": 12,
      "outputs": [
        {
          "output_type": "stream",
          "name": "stdout",
          "text": [
            "149138\n"
          ]
        }
      ]
    },
    {
      "cell_type": "code",
      "source": [
        "for i in players:\n",
        "  print(i)"
      ],
      "metadata": {
        "colab": {
          "base_uri": "https://localhost:8080/"
        },
        "id": "NZifQZzFUQEr",
        "outputId": "0c1eeaa7-b10f-4100-a768-3901dc60cc5f"
      },
      "execution_count": 13,
      "outputs": [
        {
          "output_type": "stream",
          "name": "stdout",
          "text": [
            "1049\n",
            "2930\n",
            "38390\n",
            "49283\n",
            "57486\n"
          ]
        }
      ]
    },
    {
      "cell_type": "code",
      "source": [
        "for i in players:\n",
        "  if i>mean:\n",
        "    print(i)"
      ],
      "metadata": {
        "colab": {
          "base_uri": "https://localhost:8080/"
        },
        "id": "S2vYOcPeUYMo",
        "outputId": "8b7c0534-a0c9-4ec2-d617-b01089e04d01"
      },
      "execution_count": 11,
      "outputs": [
        {
          "output_type": "stream",
          "name": "stdout",
          "text": [
            "38390\n",
            "49283\n",
            "57486\n"
          ]
        }
      ]
    }
  ]
}